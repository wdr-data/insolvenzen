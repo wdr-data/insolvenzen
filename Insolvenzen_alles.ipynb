{
 "cells": [
  {
   "cell_type": "code",
   "execution_count": 204,
   "id": "4cbd44b4",
   "metadata": {},
   "outputs": [],
   "source": [
    "import pandas as pd\n",
    "import calmap\n",
    "import numpy as np\n",
    "import os"
   ]
  },
  {
   "cell_type": "code",
   "execution_count": 205,
   "id": "7568223f",
   "metadata": {},
   "outputs": [],
   "source": [
    "from pathlib import Path\n",
    "from os import environ, write\n",
    "\n",
    "import re\n",
    "from datetime import datetime, time\n",
    "import datetime as dt\n",
    "from collections import defaultdict\n",
    "\n",
    "import requests"
   ]
  },
  {
   "cell_type": "code",
   "execution_count": 323,
   "id": "743c870a",
   "metadata": {},
   "outputs": [],
   "source": [
    "def load_data():\n",
    "    if environ.get(\"USE_LOCAL_FILES\"):\n",
    "        paths = Path(\"extracted\").rglob(\"*.csv\")\n",
    "        df_parts = []\n",
    "\n",
    "        for path in sorted(paths):\n",
    "\n",
    "            print(\"Reading for analysis:\", path)\n",
    "\n",
    "            with open(path, \"r\", encoding=\"utf-8\") as fp:\n",
    "                df_part = pd.read_csv(fp, delimiter=\",\", dtype=str)\n",
    "                df_parts.append(df_part)\n",
    "\n",
    "            # if df is None:\n",
    "            #     df = df_part\n",
    "            # else:\n",
    "            #     df = df.append(df_part, ignore_index=True)\n",
    "\n",
    "        df = pd.concat(df_parts, ignore_index=True)\n",
    "\n",
    "    else:\n",
    "        raise NotImplementedError(\"Remote data not yet implemented\")\n",
    "    \n",
    "    df['date_of_birth'] = pd.to_datetime(df['date_of_birth'], errors = 'coerce')\n",
    "    df['date_of_proceeding'] = pd.to_datetime(df['date_of_proceeding'], errors = 'coerce')\n",
    "    df['date_of_publication'] = pd.to_datetime(df['date_of_publication'], errors = 'coerce')\n",
    "\n",
    "    return df"
   ]
  },
  {
   "cell_type": "code",
   "execution_count": 324,
   "id": "007cfd6c",
   "metadata": {},
   "outputs": [
    {
     "name": "stdout",
     "output_type": "stream",
     "text": [
      "Reading for analysis: extracted/buckets/insolvenzenard/insolvenzbekanntmachungen-scraper/2021-01-17T08-05-41.jsonl.csv\n",
      "Reading for analysis: extracted/buckets/insolvenzenard/insolvenzbekanntmachungen-scraper/2021-01-24T08-05-43.jsonl.csv\n",
      "Reading for analysis: extracted/buckets/insolvenzenard/insolvenzbekanntmachungen-scraper/2021-01-31T03-50-40.jsonl.csv\n",
      "Reading for analysis: extracted/buckets/insolvenzenard/insolvenzbekanntmachungen-scraper/2021-02-07T03-47-56.jsonl.csv\n",
      "Reading for analysis: extracted/buckets/insolvenzenard/insolvenzbekanntmachungen-scraper/2021-02-14T03-54-29.jsonl.csv\n",
      "Reading for analysis: extracted/buckets/insolvenzenard/insolvenzbekanntmachungen-scraper/2021-02-21T04-08-08.jsonl.csv\n",
      "Reading for analysis: extracted/buckets/insolvenzenard/insolvenzbekanntmachungen-scraper/2021-02-28T04-20-16.jsonl.csv\n",
      "Reading for analysis: extracted/buckets/insolvenzenard/insolvenzbekanntmachungen-scraper/2021-03-07T07-20-48.jsonl.csv\n",
      "Reading for analysis: extracted/buckets/insolvenzenard/insolvenzbekanntmachungen-scraper/2021-03-14T04-06-39.jsonl.csv\n",
      "Reading for analysis: extracted/buckets/insolvenzenard/insolvenzbekanntmachungen-scraper/2021-03-21T03-54-45.jsonl.csv\n",
      "Reading for analysis: extracted/buckets/insolvenzenard/insolvenzbekanntmachungen-scraper/2021-03-28T03-04-19.jsonl.csv\n",
      "Reading for analysis: extracted/buckets/insolvenzenard/insolvenzbekanntmachungen-scraper/2021-04-04T03-42-28.jsonl.csv\n",
      "Reading for analysis: extracted/buckets/insolvenzenard/insolvenzbekanntmachungen-scraper/2021-04-11T03-03-13.jsonl.csv\n",
      "Reading for analysis: extracted/buckets/insolvenzenard/insolvenzbekanntmachungen-scraper/2021-04-18T03-22-49.jsonl.csv\n",
      "Reading for analysis: extracted/buckets/insolvenzenard/insolvenzbekanntmachungen-scraper/2021-04-25T03-13-53.jsonl.csv\n",
      "Reading for analysis: extracted/buckets/insolvenzenard/insolvenzbekanntmachungen-scraper/2021-05-02T03-20-17.jsonl.csv\n",
      "Reading for analysis: extracted/buckets/insolvenzenard/insolvenzbekanntmachungen-scraper/2021-05-09T03-12-25.jsonl.csv\n",
      "Reading for analysis: extracted/buckets/insolvenzenard/insolvenzbekanntmachungen-scraper/2021-05-16T03-35-16.jsonl.csv\n",
      "Reading for analysis: extracted/buckets/insolvenzenard/insolvenzbekanntmachungen-scraper/2021-05-23T03-59-24.jsonl.csv\n",
      "Reading for analysis: extracted/buckets/insolvenzenard/insolvenzbekanntmachungen-scraper/2021-05-30T03-32-32.jsonl.csv\n",
      "Reading for analysis: extracted/buckets/insolvenzenard/insolvenzbekanntmachungen-scraper/2021-06-06T03-29-30.jsonl.csv\n",
      "Reading for analysis: extracted/buckets/insolvenzenard/insolvenzbekanntmachungen-scraper/2021-06-13T03-09-15.jsonl.csv\n",
      "Reading for analysis: extracted/buckets/insolvenzenard/insolvenzbekanntmachungen-scraper/2021-06-20T03-27-28.jsonl.csv\n",
      "Reading for analysis: extracted/buckets/insolvenzenard/insolvenzbekanntmachungen-scraper/2021-06-27T03-21-00.jsonl.csv\n",
      "Reading for analysis: extracted/buckets/insolvenzenard/insolvenzbekanntmachungen-scraper/2021-08-09T11-47-39.jsonl.csv\n",
      "Reading for analysis: extracted/buckets/insolvenzenard/insolvenzbekanntmachungen-scraper/2021-08-11T14-54-35.jsonl.csv\n",
      "Reading for analysis: extracted/buckets/insolvenzenard/insolvenzbekanntmachungen-scraper/2021-08-19T10-31-16.jsonl.csv\n",
      "Reading for analysis: extracted/buckets/insolvenzenard/insolvenzbekanntmachungen-scraper/2021-08-19T12-16-19.jsonl.csv\n",
      "Reading for analysis: extracted/buckets/insolvenzenard/insolvenzbekanntmachungen-scraper/2021-08-22T03-47-42.jsonl.csv\n",
      "Reading for analysis: extracted/buckets/insolvenzenard/insolvenzbekanntmachungen-scraper/2021-08-29T03-32-45.jsonl.csv\n",
      "Reading for analysis: extracted/buckets/insolvenzenard/insolvenzbekanntmachungen-scraper/2021-09-05T04-13-47.jsonl.csv\n",
      "Reading for analysis: extracted/buckets/insolvenzenard/insolvenzbekanntmachungen-scraper/2021-09-12T03-41-20.jsonl.csv\n",
      "Reading for analysis: extracted/buckets/insolvenzenard/insolvenzbekanntmachungen-scraper/2021-09-13 T2019-02-28.jsonl.csv\n",
      "Reading for analysis: extracted/buckets/insolvenzenard/insolvenzbekanntmachungen-scraper/2021-09-13T2019-01-31.jsonl.csv\n",
      "Reading for analysis: extracted/buckets/insolvenzenard/insolvenzbekanntmachungen-scraper/2021-09-14T2019-03-31.jsonl.csv\n",
      "Reading for analysis: extracted/buckets/insolvenzenard/insolvenzbekanntmachungen-scraper/2021-09-14T2019-04-30.jsonl.csv\n",
      "Reading for analysis: extracted/buckets/insolvenzenard/insolvenzbekanntmachungen-scraper/2021-09-14T2019-05-31.jsonl.csv\n",
      "Reading for analysis: extracted/buckets/insolvenzenard/insolvenzbekanntmachungen-scraper/2021-09-20-13-13-48.jsonl.csv\n",
      "Reading for analysis: extracted/buckets/insolvenzenard/insolvenzbekanntmachungen-scraper/2021-09-20-19-44-11.jsonl.csv\n",
      "Reading for analysis: extracted/buckets/insolvenzenard/insolvenzbekanntmachungen-scraper/2021-09-21-01-12-41.jsonl.csv\n",
      "Reading for analysis: extracted/buckets/insolvenzenard/insolvenzbekanntmachungen-scraper/2021-09-21-13-36-54.jsonl.csv\n",
      "Reading for analysis: extracted/buckets/insolvenzenard/insolvenzbekanntmachungen-scraper/2021-09-21-14-58-19.jsonl.csv\n",
      "Reading for analysis: extracted/buckets/insolvenzenard/insolvenzbekanntmachungen-scraper/2021-09-21-22-40-28.jsonl.csv\n",
      "Reading for analysis: extracted/buckets/insolvenzenard/insolvenzbekanntmachungen-scraper/2021-09-21T14-58-33.jsonl.csv\n",
      "Reading for analysis: extracted/buckets/insolvenzenard/insolvenzbekanntmachungen-scraper/2021-09-26T03-45-50.jsonl.csv\n",
      "Reading for analysis: extracted/buckets/insolvenzenard/insolvenzbekanntmachungen-scraper/2021-10-03T03-28-36.jsonl.csv\n",
      "Reading for analysis: extracted/buckets/insolvenzenard/insolvenzbekanntmachungen-scraper/2021-10-10T03-17-54.jsonl.csv\n",
      "Reading for analysis: extracted/buckets/insolvenzenard/insolvenzbekanntmachungen-scraper/2021-10-12T12-07-45.jsonl.csv\n",
      "Reading for analysis: extracted/buckets/insolvenzenard/insolvenzbekanntmachungen-scraper/2021-10-12T15-34-59.jsonl.csv\n",
      "Reading for analysis: extracted/buckets/insolvenzenard/insolvenzbekanntmachungen-scraper/2021-10-12T18-48-54.jsonl.csv\n",
      "Reading for analysis: extracted/buckets/insolvenzenard/insolvenzbekanntmachungen-scraper/2021-10-12T22-33-18.jsonl.csv\n",
      "Reading for analysis: extracted/buckets/insolvenzenard/insolvenzbekanntmachungen-scraper/2021-10-13T06-55-10.jsonl.csv\n",
      "Reading for analysis: extracted/buckets/insolvenzenard/insolvenzbekanntmachungen-scraper/2021-10-13T10-24-32.jsonl.csv\n",
      "Reading for analysis: extracted/buckets/insolvenzenard/insolvenzbekanntmachungen-scraper/2021-10-13T14-18-38.jsonl.csv\n",
      "Reading for analysis: extracted/buckets/insolvenzenard/insolvenzbekanntmachungen-scraper/2021-10-13T18-03-26.jsonl.csv\n",
      "Reading for analysis: extracted/buckets/insolvenzenard/insolvenzbekanntmachungen-scraper/2021-10-13T21-43-31.jsonl.csv\n",
      "Reading for analysis: extracted/buckets/insolvenzenard/insolvenzbekanntmachungen-scraper/2021-10-14T06-19-44.jsonl.csv\n",
      "Reading for analysis: extracted/buckets/insolvenzenard/insolvenzbekanntmachungen-scraper/2021-10-14T10-06-41.jsonl.csv\n",
      "Reading for analysis: extracted/buckets/insolvenzenard/insolvenzbekanntmachungen-scraper/2021-10-14T13-51-45.jsonl.csv\n",
      "Reading for analysis: extracted/buckets/insolvenzenard/insolvenzbekanntmachungen-scraper/2021-10-14T18-00-08.jsonl.csv\n",
      "Reading for analysis: extracted/buckets/insolvenzenard/insolvenzbekanntmachungen-scraper/2021-10-14T21-55-23.jsonl.csv\n",
      "Reading for analysis: extracted/buckets/insolvenzenard/insolvenzbekanntmachungen-scraper/2021-10-15T07-15-07.jsonl.csv\n",
      "Reading for analysis: extracted/buckets/insolvenzenard/insolvenzbekanntmachungen-scraper/2021-10-15T11-11-04.jsonl.csv\n",
      "Reading for analysis: extracted/buckets/insolvenzenard/insolvenzbekanntmachungen-scraper/2021-10-15T15-20-38.jsonl.csv\n",
      "Reading for analysis: extracted/buckets/insolvenzenard/insolvenzbekanntmachungen-scraper/2021-10-15T19-30-57.jsonl.csv\n",
      "Reading for analysis: extracted/buckets/insolvenzenard/insolvenzbekanntmachungen-scraper/2021-10-16T04-46-45.jsonl.csv\n",
      "Reading for analysis: extracted/buckets/insolvenzenard/insolvenzbekanntmachungen-scraper/2021-10-16T08-37-30.jsonl.csv\n",
      "Reading for analysis: extracted/buckets/insolvenzenard/insolvenzbekanntmachungen-scraper/2021-10-16T12-23-44.jsonl.csv\n",
      "Reading for analysis: extracted/buckets/insolvenzenard/insolvenzbekanntmachungen-scraper/2021-10-16T16-32-55.jsonl.csv\n",
      "Reading for analysis: extracted/buckets/insolvenzenard/insolvenzbekanntmachungen-scraper/2021-10-16T20-42-50.jsonl.csv\n",
      "Reading for analysis: extracted/buckets/insolvenzenard/insolvenzbekanntmachungen-scraper/2021-10-17T05-51-55.jsonl.csv\n",
      "Reading for analysis: extracted/buckets/insolvenzenard/insolvenzbekanntmachungen-scraper/2021-10-17T10-40-49.jsonl.csv\n"
     ]
    },
    {
     "name": "stdout",
     "output_type": "stream",
     "text": [
      "Reading for analysis: extracted/buckets/insolvenzenard/insolvenzbekanntmachungen-scraper/2021-10-20T00-26-46.jsonl.csv\n",
      "Reading for analysis: extracted/buckets/insolvenzenard/insolvenzbekanntmachungen-scraper/2021-10-20T07-31-07.jsonl.csv\n",
      "Reading for analysis: extracted/buckets/insolvenzenard/insolvenzbekanntmachungen-scraper/2021-10-20T13-43-00.jsonl.csv\n",
      "Reading for analysis: extracted/buckets/insolvenzenard/insolvenzbekanntmachungen-scraper/2021-10-20T20-17-09.jsonl.csv\n",
      "Reading for analysis: extracted/buckets/insolvenzenard/insolvenzbekanntmachungen-scraper/2021-10-21T06-38-42.jsonl.csv\n",
      "Reading for analysis: extracted/buckets/insolvenzenard/insolvenzbekanntmachungen-scraper/2021-10-21T13-46-12.jsonl.csv\n",
      "Reading for analysis: extracted/buckets/insolvenzenard/insolvenzbekanntmachungen-scraper/2021-10-21T19-37-11.jsonl.csv\n",
      "Reading for analysis: extracted/buckets/insolvenzenard/insolvenzbekanntmachungen-scraper/2021-10-22T07-02-46.jsonl.csv\n",
      "Reading for analysis: extracted/buckets/insolvenzenard/insolvenzbekanntmachungen-scraper/2021-10-22T07-27-28.jsonl.csv\n",
      "Reading for analysis: extracted/buckets/insolvenzenard/insolvenzbekanntmachungen-scraper/2021-10-22T11-01-10.jsonl.csv\n",
      "Reading for analysis: extracted/buckets/insolvenzenard/insolvenzbekanntmachungen-scraper/2021-10-24T03-10-22.jsonl.csv\n",
      "Reading for analysis: extracted/buckets/insolvenzenard/insolvenzbekanntmachungen-scraper/2021-10-31T03-23-53.jsonl.csv\n",
      "Reading for analysis: extracted/buckets/insolvenzenard/insolvenzbekanntmachungen-scraper/2021-11-07T03-44-20.jsonl.csv\n"
     ]
    }
   ],
   "source": [
    "df = load_data()"
   ]
  },
  {
   "cell_type": "code",
   "execution_count": 325,
   "id": "6899cf90",
   "metadata": {},
   "outputs": [],
   "source": [
    "df.drop_duplicates(subset =\"description_hash\", keep = \"last\", inplace = True)"
   ]
  },
  {
   "cell_type": "code",
   "execution_count": 326,
   "id": "54e7deca",
   "metadata": {
    "scrolled": true
   },
   "outputs": [
    {
     "name": "stdout",
     "output_type": "stream",
     "text": [
      "<class 'pandas.core.frame.DataFrame'>\n",
      "Int64Index: 852091 entries, 159 to 1844472\n",
      "Data columns (total 18 columns):\n",
      " #   Column               Non-Null Count   Dtype         \n",
      "---  ------               --------------   -----         \n",
      " 0   _key                 34818 non-null   object        \n",
      " 1   case_nr              852091 non-null  object        \n",
      " 2   court                852091 non-null  object        \n",
      " 3   date_of_birth        610830 non-null  datetime64[ns]\n",
      " 4   date_of_proceeding   754557 non-null  datetime64[ns]\n",
      " 5   date_of_publication  852091 non-null  datetime64[ns]\n",
      " 6   description_hash     852091 non-null  object        \n",
      " 7   federal_state        852091 non-null  object        \n",
      " 8   file_name            430671 non-null  object        \n",
      " 9   kind                 851544 non-null  object        \n",
      " 10  title                430671 non-null  object        \n",
      " 11  type_of_proceeding   852091 non-null  object        \n",
      " 12  zipcode              847993 non-null  object        \n",
      " 13  detail_form_name     421420 non-null  object        \n",
      " 14  format               421420 non-null  object        \n",
      " 15  name                 421420 non-null  object        \n",
      " 16  register             64466 non-null   object        \n",
      " 17  request_fingerprint  421420 non-null  object        \n",
      "dtypes: datetime64[ns](3), object(15)\n",
      "memory usage: 123.5+ MB\n"
     ]
    }
   ],
   "source": [
    "df.info()"
   ]
  },
  {
   "cell_type": "code",
   "execution_count": 327,
   "id": "35adef69",
   "metadata": {},
   "outputs": [],
   "source": [
    "for plz in df.zipcode.dropna().unique():\n",
    "    if isinstance(plz, float): \n",
    "        print(plz, type(plz))"
   ]
  },
  {
   "cell_type": "code",
   "execution_count": 328,
   "id": "60c360fe",
   "metadata": {
    "scrolled": true
   },
   "outputs": [
    {
     "data": {
      "text/plain": [
       "array(['00000', '00037', '00165', ..., '99996', '99998', '99999'],\n",
       "      dtype=object)"
      ]
     },
     "execution_count": 328,
     "metadata": {},
     "output_type": "execute_result"
    }
   ],
   "source": [
    "unique_plzs = df.zipcode.dropna().unique()\n",
    "unique_plzs.sort()\n",
    "unique_plzs"
   ]
  },
  {
   "cell_type": "markdown",
   "id": "38f3b15e",
   "metadata": {},
   "source": [
    "# Bundesweit"
   ]
  },
  {
   "cell_type": "markdown",
   "id": "a24cdf58",
   "metadata": {},
   "source": [
    "### Filtern nach Insolvenzart"
   ]
  },
  {
   "cell_type": "code",
   "execution_count": 329,
   "id": "15614c9c",
   "metadata": {},
   "outputs": [],
   "source": [
    "df1 = df.replace(to_replace = [\"nw\"],\n",
    "                   value =\"Nordrhein-Westfalen\")"
   ]
  },
  {
   "cell_type": "code",
   "execution_count": 330,
   "id": "7a525cfe",
   "metadata": {},
   "outputs": [],
   "source": [
    "df2 = df1.replace(to_replace = [\"bb\"],\n",
    "                   value =\"Brandenburg\")"
   ]
  },
  {
   "cell_type": "code",
   "execution_count": 331,
   "id": "02b99c7f",
   "metadata": {},
   "outputs": [],
   "source": [
    "df3 = df2.replace(to_replace = [\"sh\"],\n",
    "                   value =\"Schleswig-Holstein\")"
   ]
  },
  {
   "cell_type": "code",
   "execution_count": 332,
   "id": "1ed70f0b",
   "metadata": {},
   "outputs": [],
   "source": [
    "df4 = df3.replace(to_replace = [\"ns\"],\n",
    "                   value =\"Niedersachsen\")"
   ]
  },
  {
   "cell_type": "code",
   "execution_count": 333,
   "id": "e9308f3d",
   "metadata": {},
   "outputs": [],
   "source": [
    "df5 = df4.replace(to_replace = [\"by\"],\n",
    "                   value =\"Bayern\")"
   ]
  },
  {
   "cell_type": "code",
   "execution_count": 334,
   "id": "273d8b0f",
   "metadata": {},
   "outputs": [],
   "source": [
    "df6 = df5.replace(to_replace = [\"rp\"],\n",
    "                   value =\"Rheinland-Pfalz\")"
   ]
  },
  {
   "cell_type": "code",
   "execution_count": 335,
   "id": "980ce97d",
   "metadata": {},
   "outputs": [],
   "source": [
    "df7 = df6.replace(to_replace = [\"sn\"],\n",
    "                   value =\"Sachsen\")"
   ]
  },
  {
   "cell_type": "code",
   "execution_count": 336,
   "id": "ddf7d0f7",
   "metadata": {},
   "outputs": [],
   "source": [
    "df8 = df7.replace(to_replace = [\"bw\"],\n",
    "                   value =\"Baden-Württemberg\")"
   ]
  },
  {
   "cell_type": "code",
   "execution_count": 337,
   "id": "97f617dc",
   "metadata": {},
   "outputs": [],
   "source": [
    "df9 = df8.replace(to_replace = [\"be\"],\n",
    "                   value =\"Berlin\")"
   ]
  },
  {
   "cell_type": "code",
   "execution_count": 338,
   "id": "3c2363ea",
   "metadata": {},
   "outputs": [],
   "source": [
    "df10 = df9.replace(to_replace = [\"st\"],\n",
    "                   value =\"Brandenburg\")"
   ]
  },
  {
   "cell_type": "code",
   "execution_count": 339,
   "id": "091a3ced",
   "metadata": {},
   "outputs": [],
   "source": [
    "df11 = df10.replace(to_replace = [\"he\"],\n",
    "                   value =\"Hessen\")"
   ]
  },
  {
   "cell_type": "code",
   "execution_count": 340,
   "id": "c0286ce2",
   "metadata": {},
   "outputs": [],
   "source": [
    "df12 = df11.replace(to_replace = [\"hh\"],\n",
    "                   value =\"Hamburg\")"
   ]
  },
  {
   "cell_type": "code",
   "execution_count": 341,
   "id": "4372c480",
   "metadata": {},
   "outputs": [],
   "source": [
    "df13 = df12.replace(to_replace = [\"sl\"],\n",
    "                   value =\"Saarland\")"
   ]
  },
  {
   "cell_type": "code",
   "execution_count": 342,
   "id": "0b47f8a5",
   "metadata": {},
   "outputs": [],
   "source": [
    "df14 = df13.replace(to_replace = [\"hb\"],\n",
    "                   value =\"Bremen\")"
   ]
  },
  {
   "cell_type": "code",
   "execution_count": 343,
   "id": "5f562a00",
   "metadata": {},
   "outputs": [],
   "source": [
    "df15 = df14.replace(to_replace = [\"th\"],\n",
    "                   value =\"Thüringen\")"
   ]
  },
  {
   "cell_type": "code",
   "execution_count": 344,
   "id": "ba7b4ab2",
   "metadata": {},
   "outputs": [],
   "source": [
    "df16 = df15.replace(to_replace = [\"mv\"],\n",
    "                   value =\"Mecklenburg-Vorpommern\")"
   ]
  },
  {
   "cell_type": "code",
   "execution_count": 345,
   "id": "674850f0",
   "metadata": {},
   "outputs": [],
   "source": [
    "# IN = Regelinsolvenz\n",
    "\n",
    "def in_kind(df16):\n",
    "    in_unternehmen = (df16[df16['kind'] == 'in'])\n",
    "    return in_unternehmen\n",
    "\n",
    "# Funktion def wird ausgeführt\n",
    "data_in = in_kind(df16)"
   ]
  },
  {
   "cell_type": "code",
   "execution_count": 346,
   "id": "364b8c25",
   "metadata": {},
   "outputs": [],
   "source": [
    "def in_eröffnung(data_in):\n",
    "    in_eröffnet = data_in[data_in['type_of_proceeding'].isin(['Eröffnungen', 'Eroeffnung', 'Eroeffnung_Insolvenzverfahren', 'Eroeffnungen'])]\n",
    "    return in_eröffnet\n",
    "\n",
    "# Funktion def wird ausgeführt\n",
    "data_eröffnet_in = in_eröffnung(data_in)"
   ]
  },
  {
   "cell_type": "code",
   "execution_count": 244,
   "id": "97e71e08",
   "metadata": {},
   "outputs": [],
   "source": [
    "data_nw_ik = data_eröffnet_in[data_eröffnet_in[\"federal_state\"].isin(['Nordrhein-Westfalen'])]"
   ]
  },
  {
   "cell_type": "code",
   "execution_count": 347,
   "id": "05469aa0",
   "metadata": {},
   "outputs": [],
   "source": [
    "date_range_nw_ik = data_eröffnet_in[data_eröffnet_in.date_of_publication.between('2021-08-01', '2021-11-07')]"
   ]
  },
  {
   "cell_type": "code",
   "execution_count": 348,
   "id": "2362e97b",
   "metadata": {
    "scrolled": true
   },
   "outputs": [
    {
     "data": {
      "text/html": [
       "<div>\n",
       "<style scoped>\n",
       "    .dataframe tbody tr th:only-of-type {\n",
       "        vertical-align: middle;\n",
       "    }\n",
       "\n",
       "    .dataframe tbody tr th {\n",
       "        vertical-align: top;\n",
       "    }\n",
       "\n",
       "    .dataframe thead th {\n",
       "        text-align: right;\n",
       "    }\n",
       "</style>\n",
       "<table border=\"1\" class=\"dataframe\">\n",
       "  <thead>\n",
       "    <tr style=\"text-align: right;\">\n",
       "      <th></th>\n",
       "      <th>_key</th>\n",
       "      <th>case_nr</th>\n",
       "      <th>court</th>\n",
       "      <th>date_of_birth</th>\n",
       "      <th>date_of_proceeding</th>\n",
       "      <th>date_of_publication</th>\n",
       "      <th>description_hash</th>\n",
       "      <th>federal_state</th>\n",
       "      <th>file_name</th>\n",
       "      <th>kind</th>\n",
       "      <th>title</th>\n",
       "      <th>type_of_proceeding</th>\n",
       "      <th>zipcode</th>\n",
       "      <th>detail_form_name</th>\n",
       "      <th>format</th>\n",
       "      <th>name</th>\n",
       "      <th>register</th>\n",
       "      <th>request_fingerprint</th>\n",
       "    </tr>\n",
       "  </thead>\n",
       "  <tbody>\n",
       "    <tr>\n",
       "      <th>987532</th>\n",
       "      <td>NaN</td>\n",
       "      <td>IN 87/21</td>\n",
       "      <td>Mühlhausen</td>\n",
       "      <td>1985-10-11</td>\n",
       "      <td>2021-08-05</td>\n",
       "      <td>2021-08-05</td>\n",
       "      <td>519f850089d8a6dcd10dacfe74ef84e8ecabb68edaf44a...</td>\n",
       "      <td>Thüringen</td>\n",
       "      <td>NaN</td>\n",
       "      <td>in</td>\n",
       "      <td>NaN</td>\n",
       "      <td>Eröffnungen</td>\n",
       "      <td>99734</td>\n",
       "      <td>tbl_ergebnis:9:frm_detail</td>\n",
       "      <td>neu</td>\n",
       "      <td>Lingner, Mike</td>\n",
       "      <td>NaN</td>\n",
       "      <td>1aa89f8929792316eb3eda78eef3ccc21d6a8c7837a9ff...</td>\n",
       "    </tr>\n",
       "    <tr>\n",
       "      <th>987647</th>\n",
       "      <td>NaN</td>\n",
       "      <td>56 IN 69/21</td>\n",
       "      <td>Flensburg</td>\n",
       "      <td>1990-01-20</td>\n",
       "      <td>2021-08-04</td>\n",
       "      <td>2021-08-05</td>\n",
       "      <td>f6f43a6bc328f47fce7291bbedcf9eed64a022a24a7b18...</td>\n",
       "      <td>Schleswig-Holstein</td>\n",
       "      <td>NaN</td>\n",
       "      <td>in</td>\n",
       "      <td>NaN</td>\n",
       "      <td>Eröffnungen</td>\n",
       "      <td>24937</td>\n",
       "      <td>tbl_ergebnis:12:frm_detail</td>\n",
       "      <td>neu</td>\n",
       "      <td>Youssef, Adam</td>\n",
       "      <td>NaN</td>\n",
       "      <td>1deba6b8fe6197739645467f4fa035e5c754b42cd0877c...</td>\n",
       "    </tr>\n",
       "    <tr>\n",
       "      <th>987648</th>\n",
       "      <td>NaN</td>\n",
       "      <td>1 IN 43/21</td>\n",
       "      <td>Schwarzenbek</td>\n",
       "      <td>1964-05-26</td>\n",
       "      <td>2021-08-04</td>\n",
       "      <td>2021-08-05</td>\n",
       "      <td>7f940a632c814507b2e3e632628fd9dad52c7c12a0252f...</td>\n",
       "      <td>Schleswig-Holstein</td>\n",
       "      <td>NaN</td>\n",
       "      <td>in</td>\n",
       "      <td>NaN</td>\n",
       "      <td>Eröffnungen</td>\n",
       "      <td>23879</td>\n",
       "      <td>tbl_ergebnis:11:frm_detail</td>\n",
       "      <td>neu</td>\n",
       "      <td>Warncke</td>\n",
       "      <td>NaN</td>\n",
       "      <td>96c5e0f5c67edd9679f9cfbac9497fb5154ffe0d3a49d9...</td>\n",
       "    </tr>\n",
       "    <tr>\n",
       "      <th>987649</th>\n",
       "      <td>NaN</td>\n",
       "      <td>66 IN 40/21</td>\n",
       "      <td>Norderstedt</td>\n",
       "      <td>1986-12-07</td>\n",
       "      <td>2021-07-23</td>\n",
       "      <td>2021-08-05</td>\n",
       "      <td>ab72bfd1695ed8452284bb78638e52b323df4b5aaa0d61...</td>\n",
       "      <td>Schleswig-Holstein</td>\n",
       "      <td>NaN</td>\n",
       "      <td>in</td>\n",
       "      <td>NaN</td>\n",
       "      <td>Eröffnungen</td>\n",
       "      <td>22846</td>\n",
       "      <td>tbl_ergebnis:10:frm_detail</td>\n",
       "      <td>neu</td>\n",
       "      <td>Tirelioglu</td>\n",
       "      <td>NaN</td>\n",
       "      <td>9db886d26348c2a8ebd2c6110c08e7078479356c46799b...</td>\n",
       "    </tr>\n",
       "    <tr>\n",
       "      <th>987650</th>\n",
       "      <td>NaN</td>\n",
       "      <td>91 IN 49/21</td>\n",
       "      <td>Neumünster</td>\n",
       "      <td>1985-09-11</td>\n",
       "      <td>2021-08-05</td>\n",
       "      <td>2021-08-05</td>\n",
       "      <td>4cd0e939b02d08dd8a2009349404cf6d92eaba34b56dd9...</td>\n",
       "      <td>Schleswig-Holstein</td>\n",
       "      <td>NaN</td>\n",
       "      <td>in</td>\n",
       "      <td>NaN</td>\n",
       "      <td>Eröffnungen</td>\n",
       "      <td>24537</td>\n",
       "      <td>tbl_ergebnis:9:frm_detail</td>\n",
       "      <td>neu</td>\n",
       "      <td>Thormann-Neubauer, Tim</td>\n",
       "      <td>NaN</td>\n",
       "      <td>82761562a61c868e25ffc926fa45b2b82b06438345d3b4...</td>\n",
       "    </tr>\n",
       "  </tbody>\n",
       "</table>\n",
       "</div>"
      ],
      "text/plain": [
       "       _key      case_nr         court date_of_birth date_of_proceeding  \\\n",
       "987532  NaN     IN 87/21    Mühlhausen    1985-10-11         2021-08-05   \n",
       "987647  NaN  56 IN 69/21     Flensburg    1990-01-20         2021-08-04   \n",
       "987648  NaN   1 IN 43/21  Schwarzenbek    1964-05-26         2021-08-04   \n",
       "987649  NaN  66 IN 40/21   Norderstedt    1986-12-07         2021-07-23   \n",
       "987650  NaN  91 IN 49/21    Neumünster    1985-09-11         2021-08-05   \n",
       "\n",
       "       date_of_publication                                   description_hash  \\\n",
       "987532          2021-08-05  519f850089d8a6dcd10dacfe74ef84e8ecabb68edaf44a...   \n",
       "987647          2021-08-05  f6f43a6bc328f47fce7291bbedcf9eed64a022a24a7b18...   \n",
       "987648          2021-08-05  7f940a632c814507b2e3e632628fd9dad52c7c12a0252f...   \n",
       "987649          2021-08-05  ab72bfd1695ed8452284bb78638e52b323df4b5aaa0d61...   \n",
       "987650          2021-08-05  4cd0e939b02d08dd8a2009349404cf6d92eaba34b56dd9...   \n",
       "\n",
       "             federal_state file_name kind title type_of_proceeding zipcode  \\\n",
       "987532           Thüringen       NaN   in   NaN        Eröffnungen   99734   \n",
       "987647  Schleswig-Holstein       NaN   in   NaN        Eröffnungen   24937   \n",
       "987648  Schleswig-Holstein       NaN   in   NaN        Eröffnungen   23879   \n",
       "987649  Schleswig-Holstein       NaN   in   NaN        Eröffnungen   22846   \n",
       "987650  Schleswig-Holstein       NaN   in   NaN        Eröffnungen   24537   \n",
       "\n",
       "                  detail_form_name format                    name register  \\\n",
       "987532   tbl_ergebnis:9:frm_detail    neu           Lingner, Mike      NaN   \n",
       "987647  tbl_ergebnis:12:frm_detail    neu           Youssef, Adam      NaN   \n",
       "987648  tbl_ergebnis:11:frm_detail    neu                 Warncke      NaN   \n",
       "987649  tbl_ergebnis:10:frm_detail    neu              Tirelioglu      NaN   \n",
       "987650   tbl_ergebnis:9:frm_detail    neu  Thormann-Neubauer, Tim      NaN   \n",
       "\n",
       "                                      request_fingerprint  \n",
       "987532  1aa89f8929792316eb3eda78eef3ccc21d6a8c7837a9ff...  \n",
       "987647  1deba6b8fe6197739645467f4fa035e5c754b42cd0877c...  \n",
       "987648  96c5e0f5c67edd9679f9cfbac9497fb5154ffe0d3a49d9...  \n",
       "987649  9db886d26348c2a8ebd2c6110c08e7078479356c46799b...  \n",
       "987650  82761562a61c868e25ffc926fa45b2b82b06438345d3b4...  "
      ]
     },
     "execution_count": 348,
     "metadata": {},
     "output_type": "execute_result"
    }
   ],
   "source": [
    "date_range_nw_ik.head()"
   ]
  },
  {
   "cell_type": "code",
   "execution_count": 349,
   "id": "fc55bfb7",
   "metadata": {},
   "outputs": [
    {
     "data": {
      "text/html": [
       "<div>\n",
       "<style scoped>\n",
       "    .dataframe tbody tr th:only-of-type {\n",
       "        vertical-align: middle;\n",
       "    }\n",
       "\n",
       "    .dataframe tbody tr th {\n",
       "        vertical-align: top;\n",
       "    }\n",
       "\n",
       "    .dataframe thead th {\n",
       "        text-align: right;\n",
       "    }\n",
       "</style>\n",
       "<table border=\"1\" class=\"dataframe\">\n",
       "  <thead>\n",
       "    <tr style=\"text-align: right;\">\n",
       "      <th></th>\n",
       "      <th>zipcode</th>\n",
       "      <th>description_hash</th>\n",
       "    </tr>\n",
       "  </thead>\n",
       "  <tbody>\n",
       "    <tr>\n",
       "      <th>644</th>\n",
       "      <td>20148</td>\n",
       "      <td>1</td>\n",
       "    </tr>\n",
       "    <tr>\n",
       "      <th>2581</th>\n",
       "      <td>75173</td>\n",
       "      <td>2</td>\n",
       "    </tr>\n",
       "    <tr>\n",
       "      <th>1166</th>\n",
       "      <td>32549</td>\n",
       "      <td>1</td>\n",
       "    </tr>\n",
       "    <tr>\n",
       "      <th>532</th>\n",
       "      <td>16818</td>\n",
       "      <td>1</td>\n",
       "    </tr>\n",
       "    <tr>\n",
       "      <th>47</th>\n",
       "      <td>02957</td>\n",
       "      <td>1</td>\n",
       "    </tr>\n",
       "    <tr>\n",
       "      <th>962</th>\n",
       "      <td>27246</td>\n",
       "      <td>2</td>\n",
       "    </tr>\n",
       "    <tr>\n",
       "      <th>2471</th>\n",
       "      <td>72280</td>\n",
       "      <td>2</td>\n",
       "    </tr>\n",
       "    <tr>\n",
       "      <th>1161</th>\n",
       "      <td>32361</td>\n",
       "      <td>1</td>\n",
       "    </tr>\n",
       "    <tr>\n",
       "      <th>751</th>\n",
       "      <td>22844</td>\n",
       "      <td>2</td>\n",
       "    </tr>\n",
       "    <tr>\n",
       "      <th>738</th>\n",
       "      <td>22547</td>\n",
       "      <td>3</td>\n",
       "    </tr>\n",
       "  </tbody>\n",
       "</table>\n",
       "</div>"
      ],
      "text/plain": [
       "     zipcode  description_hash\n",
       "644    20148                 1\n",
       "2581   75173                 2\n",
       "1166   32549                 1\n",
       "532    16818                 1\n",
       "47     02957                 1\n",
       "962    27246                 2\n",
       "2471   72280                 2\n",
       "1161   32361                 1\n",
       "751    22844                 2\n",
       "738    22547                 3"
      ]
     },
     "execution_count": 349,
     "metadata": {},
     "output_type": "execute_result"
    }
   ],
   "source": [
    "eröffnung_court_nw = date_range_nw_ik.groupby(['zipcode'], as_index=False).count()[['zipcode','description_hash']]\n",
    "eröffnung_court_nw.sample(10)"
   ]
  },
  {
   "cell_type": "code",
   "execution_count": 350,
   "id": "64fb0810",
   "metadata": {},
   "outputs": [
    {
     "data": {
      "text/plain": [
       "'for plz in eröffnung_court_nw.zipcode:\\n    if not isinstance(plz, str):\\n        print(plz, type(plz))'"
      ]
     },
     "execution_count": 350,
     "metadata": {},
     "output_type": "execute_result"
    }
   ],
   "source": [
    "\"\"\"for plz in eröffnung_court_nw.zipcode:\n",
    "    if not isinstance(plz, str):\n",
    "        print(plz, type(plz))\"\"\""
   ]
  },
  {
   "cell_type": "code",
   "execution_count": 353,
   "id": "de98592f",
   "metadata": {
    "collapsed": true
   },
   "outputs": [
    {
     "data": {
      "text/html": [
       "<div>\n",
       "<style scoped>\n",
       "    .dataframe tbody tr th:only-of-type {\n",
       "        vertical-align: middle;\n",
       "    }\n",
       "\n",
       "    .dataframe tbody tr th {\n",
       "        vertical-align: top;\n",
       "    }\n",
       "\n",
       "    .dataframe thead th {\n",
       "        text-align: right;\n",
       "    }\n",
       "</style>\n",
       "<table border=\"1\" class=\"dataframe\">\n",
       "  <thead>\n",
       "    <tr style=\"text-align: right;\">\n",
       "      <th></th>\n",
       "      <th>zipcode</th>\n",
       "      <th>description_hash</th>\n",
       "      <th>ags</th>\n",
       "      <th>einwohner</th>\n",
       "      <th>landkreis</th>\n",
       "      <th>ort</th>\n",
       "    </tr>\n",
       "  </thead>\n",
       "  <tbody>\n",
       "    <tr>\n",
       "      <th>2703</th>\n",
       "      <td>79117</td>\n",
       "      <td>2</td>\n",
       "      <td>08311</td>\n",
       "      <td>18272</td>\n",
       "      <td>None</td>\n",
       "      <td>Freiburg im Breisgau</td>\n",
       "    </tr>\n",
       "    <tr>\n",
       "      <th>2580</th>\n",
       "      <td>75172</td>\n",
       "      <td>4</td>\n",
       "      <td>08231</td>\n",
       "      <td>13892</td>\n",
       "      <td>None</td>\n",
       "      <td>Pforzheim</td>\n",
       "    </tr>\n",
       "    <tr>\n",
       "      <th>2403</th>\n",
       "      <td>70374</td>\n",
       "      <td>1</td>\n",
       "      <td>08111</td>\n",
       "      <td>24823</td>\n",
       "      <td>None</td>\n",
       "      <td>Stuttgart</td>\n",
       "    </tr>\n",
       "    <tr>\n",
       "      <th>1865</th>\n",
       "      <td>52531</td>\n",
       "      <td>2</td>\n",
       "      <td>05370</td>\n",
       "      <td>24238</td>\n",
       "      <td>Kreis Heinsberg</td>\n",
       "      <td>Übach-Palenberg</td>\n",
       "    </tr>\n",
       "    <tr>\n",
       "      <th>905</th>\n",
       "      <td>25927</td>\n",
       "      <td>1</td>\n",
       "      <td>01054</td>\n",
       "      <td>1722</td>\n",
       "      <td>Kreis Nordfriesland</td>\n",
       "      <td>Aventoft</td>\n",
       "    </tr>\n",
       "    <tr>\n",
       "      <th>1536</th>\n",
       "      <td>44575</td>\n",
       "      <td>2</td>\n",
       "      <td>05562</td>\n",
       "      <td>22186</td>\n",
       "      <td>Kreis Recklinghausen</td>\n",
       "      <td>Castrop-Rauxel</td>\n",
       "    </tr>\n",
       "    <tr>\n",
       "      <th>3140</th>\n",
       "      <td>93128</td>\n",
       "      <td>1</td>\n",
       "      <td>09375</td>\n",
       "      <td>15061</td>\n",
       "      <td>Landkreis Regensburg</td>\n",
       "      <td>Regenstauf</td>\n",
       "    </tr>\n",
       "    <tr>\n",
       "      <th>249</th>\n",
       "      <td>10535</td>\n",
       "      <td>1</td>\n",
       "      <td>NaN</td>\n",
       "      <td>NaN</td>\n",
       "      <td>NaN</td>\n",
       "      <td>NaN</td>\n",
       "    </tr>\n",
       "    <tr>\n",
       "      <th>672</th>\n",
       "      <td>21217</td>\n",
       "      <td>1</td>\n",
       "      <td>03353</td>\n",
       "      <td>16607</td>\n",
       "      <td>Landkreis Harburg</td>\n",
       "      <td>Seevetal</td>\n",
       "    </tr>\n",
       "    <tr>\n",
       "      <th>2510</th>\n",
       "      <td>73257</td>\n",
       "      <td>1</td>\n",
       "      <td>08116</td>\n",
       "      <td>9424</td>\n",
       "      <td>Landkreis Esslingen</td>\n",
       "      <td>Köngen</td>\n",
       "    </tr>\n",
       "    <tr>\n",
       "      <th>1734</th>\n",
       "      <td>49090</td>\n",
       "      <td>1</td>\n",
       "      <td>03404</td>\n",
       "      <td>19233</td>\n",
       "      <td>None</td>\n",
       "      <td>Osnabrück</td>\n",
       "    </tr>\n",
       "    <tr>\n",
       "      <th>2096</th>\n",
       "      <td>60311</td>\n",
       "      <td>1</td>\n",
       "      <td>06412</td>\n",
       "      <td>5428</td>\n",
       "      <td>None</td>\n",
       "      <td>Frankfurt am Main</td>\n",
       "    </tr>\n",
       "    <tr>\n",
       "      <th>229</th>\n",
       "      <td>10117</td>\n",
       "      <td>6</td>\n",
       "      <td>11000</td>\n",
       "      <td>12217</td>\n",
       "      <td>None</td>\n",
       "      <td>Berlin</td>\n",
       "    </tr>\n",
       "    <tr>\n",
       "      <th>2209</th>\n",
       "      <td>64646</td>\n",
       "      <td>1</td>\n",
       "      <td>06431</td>\n",
       "      <td>24878</td>\n",
       "      <td>Kreis Bergstraße</td>\n",
       "      <td>Heppenheim</td>\n",
       "    </tr>\n",
       "    <tr>\n",
       "      <th>2456</th>\n",
       "      <td>72072</td>\n",
       "      <td>3</td>\n",
       "      <td>08416</td>\n",
       "      <td>24633</td>\n",
       "      <td>Landkreis Tübingen</td>\n",
       "      <td>Tübingen</td>\n",
       "    </tr>\n",
       "    <tr>\n",
       "      <th>2743</th>\n",
       "      <td>80687</td>\n",
       "      <td>4</td>\n",
       "      <td>09162</td>\n",
       "      <td>21577</td>\n",
       "      <td>None</td>\n",
       "      <td>München</td>\n",
       "    </tr>\n",
       "    <tr>\n",
       "      <th>1859</th>\n",
       "      <td>52445</td>\n",
       "      <td>2</td>\n",
       "      <td>05358</td>\n",
       "      <td>8299</td>\n",
       "      <td>Kreis Düren</td>\n",
       "      <td>Titz</td>\n",
       "    </tr>\n",
       "    <tr>\n",
       "      <th>1226</th>\n",
       "      <td>34132</td>\n",
       "      <td>3</td>\n",
       "      <td>06611</td>\n",
       "      <td>16475</td>\n",
       "      <td>None</td>\n",
       "      <td>Kassel</td>\n",
       "    </tr>\n",
       "    <tr>\n",
       "      <th>627</th>\n",
       "      <td>19288</td>\n",
       "      <td>1</td>\n",
       "      <td>13076</td>\n",
       "      <td>16334</td>\n",
       "      <td>Landkreis Ludwigslust-Parchim</td>\n",
       "      <td>Alt Krenzlin</td>\n",
       "    </tr>\n",
       "    <tr>\n",
       "      <th>2228</th>\n",
       "      <td>65199</td>\n",
       "      <td>1</td>\n",
       "      <td>06414</td>\n",
       "      <td>22952</td>\n",
       "      <td>None</td>\n",
       "      <td>Wiesbaden</td>\n",
       "    </tr>\n",
       "    <tr>\n",
       "      <th>3249</th>\n",
       "      <td>97440</td>\n",
       "      <td>2</td>\n",
       "      <td>09678</td>\n",
       "      <td>10304</td>\n",
       "      <td>Landkreis Schweinfurt</td>\n",
       "      <td>Werneck</td>\n",
       "    </tr>\n",
       "    <tr>\n",
       "      <th>722</th>\n",
       "      <td>22305</td>\n",
       "      <td>4</td>\n",
       "      <td>02000</td>\n",
       "      <td>13746</td>\n",
       "      <td>None</td>\n",
       "      <td>Hamburg</td>\n",
       "    </tr>\n",
       "    <tr>\n",
       "      <th>308</th>\n",
       "      <td>12053</td>\n",
       "      <td>2</td>\n",
       "      <td>11000</td>\n",
       "      <td>15373</td>\n",
       "      <td>None</td>\n",
       "      <td>Berlin</td>\n",
       "    </tr>\n",
       "    <tr>\n",
       "      <th>1071</th>\n",
       "      <td>30165</td>\n",
       "      <td>1</td>\n",
       "      <td>03241</td>\n",
       "      <td>22608</td>\n",
       "      <td>Region Hannover</td>\n",
       "      <td>Hannover</td>\n",
       "    </tr>\n",
       "    <tr>\n",
       "      <th>1635</th>\n",
       "      <td>46459</td>\n",
       "      <td>1</td>\n",
       "      <td>05154</td>\n",
       "      <td>21612</td>\n",
       "      <td>Kreis Kleve</td>\n",
       "      <td>Rees</td>\n",
       "    </tr>\n",
       "    <tr>\n",
       "      <th>724</th>\n",
       "      <td>22335</td>\n",
       "      <td>5</td>\n",
       "      <td>02000</td>\n",
       "      <td>13775</td>\n",
       "      <td>None</td>\n",
       "      <td>Hamburg</td>\n",
       "    </tr>\n",
       "    <tr>\n",
       "      <th>2884</th>\n",
       "      <td>85057</td>\n",
       "      <td>5</td>\n",
       "      <td>09161</td>\n",
       "      <td>20627</td>\n",
       "      <td>None</td>\n",
       "      <td>Ingolstadt</td>\n",
       "    </tr>\n",
       "    <tr>\n",
       "      <th>551</th>\n",
       "      <td>17258</td>\n",
       "      <td>1</td>\n",
       "      <td>13071</td>\n",
       "      <td>4587</td>\n",
       "      <td>Landkreis Mecklenburgische Seenplatte</td>\n",
       "      <td>Feldberger Seenlandschaft</td>\n",
       "    </tr>\n",
       "    <tr>\n",
       "      <th>1966</th>\n",
       "      <td>56112</td>\n",
       "      <td>2</td>\n",
       "      <td>07141</td>\n",
       "      <td>17692</td>\n",
       "      <td>Rhein-Lahn-Kreis</td>\n",
       "      <td>Lahnstein</td>\n",
       "    </tr>\n",
       "    <tr>\n",
       "      <th>2115</th>\n",
       "      <td>60439</td>\n",
       "      <td>5</td>\n",
       "      <td>06412</td>\n",
       "      <td>35056</td>\n",
       "      <td>None</td>\n",
       "      <td>Frankfurt am Main</td>\n",
       "    </tr>\n",
       "    <tr>\n",
       "      <th>203</th>\n",
       "      <td>09116</td>\n",
       "      <td>1</td>\n",
       "      <td>14511</td>\n",
       "      <td>18176</td>\n",
       "      <td>None</td>\n",
       "      <td>Chemnitz</td>\n",
       "    </tr>\n",
       "    <tr>\n",
       "      <th>1643</th>\n",
       "      <td>46562</td>\n",
       "      <td>1</td>\n",
       "      <td>05170</td>\n",
       "      <td>37269</td>\n",
       "      <td>Kreis Wesel</td>\n",
       "      <td>Voerde (Niederrhein)</td>\n",
       "    </tr>\n",
       "    <tr>\n",
       "      <th>2511</th>\n",
       "      <td>73262</td>\n",
       "      <td>1</td>\n",
       "      <td>08116</td>\n",
       "      <td>7876</td>\n",
       "      <td>Landkreis Esslingen</td>\n",
       "      <td>Reichenbach an der Fils</td>\n",
       "    </tr>\n",
       "    <tr>\n",
       "      <th>560</th>\n",
       "      <td>17440</td>\n",
       "      <td>1</td>\n",
       "      <td>13075</td>\n",
       "      <td>5407</td>\n",
       "      <td>Landkreis Vorpommern-Greifswald</td>\n",
       "      <td>Buggenhagen</td>\n",
       "    </tr>\n",
       "    <tr>\n",
       "      <th>1034</th>\n",
       "      <td>29227</td>\n",
       "      <td>3</td>\n",
       "      <td>03351</td>\n",
       "      <td>13144</td>\n",
       "      <td>Landkreis Celle</td>\n",
       "      <td>Celle</td>\n",
       "    </tr>\n",
       "    <tr>\n",
       "      <th>3146</th>\n",
       "      <td>93192</td>\n",
       "      <td>1</td>\n",
       "      <td>09372</td>\n",
       "      <td>2813</td>\n",
       "      <td>Landkreis Cham</td>\n",
       "      <td>Wald</td>\n",
       "    </tr>\n",
       "    <tr>\n",
       "      <th>1269</th>\n",
       "      <td>35633</td>\n",
       "      <td>2</td>\n",
       "      <td>06532</td>\n",
       "      <td>8102</td>\n",
       "      <td>Lahn-Dill-Kreis</td>\n",
       "      <td>Lahnau</td>\n",
       "    </tr>\n",
       "    <tr>\n",
       "      <th>474</th>\n",
       "      <td>15507</td>\n",
       "      <td>1</td>\n",
       "      <td>NaN</td>\n",
       "      <td>NaN</td>\n",
       "      <td>NaN</td>\n",
       "      <td>NaN</td>\n",
       "    </tr>\n",
       "    <tr>\n",
       "      <th>1615</th>\n",
       "      <td>45966</td>\n",
       "      <td>2</td>\n",
       "      <td>05562</td>\n",
       "      <td>25148</td>\n",
       "      <td>Kreis Recklinghausen</td>\n",
       "      <td>Gladbeck</td>\n",
       "    </tr>\n",
       "    <tr>\n",
       "      <th>3230</th>\n",
       "      <td>97078</td>\n",
       "      <td>1</td>\n",
       "      <td>09663</td>\n",
       "      <td>12275</td>\n",
       "      <td>None</td>\n",
       "      <td>Würzburg</td>\n",
       "    </tr>\n",
       "    <tr>\n",
       "      <th>2058</th>\n",
       "      <td>59065</td>\n",
       "      <td>2</td>\n",
       "      <td>05915</td>\n",
       "      <td>22901</td>\n",
       "      <td>None</td>\n",
       "      <td>Hamm</td>\n",
       "    </tr>\n",
       "    <tr>\n",
       "      <th>2020</th>\n",
       "      <td>57629</td>\n",
       "      <td>1</td>\n",
       "      <td>07143</td>\n",
       "      <td>10186</td>\n",
       "      <td>Westerwaldkreis</td>\n",
       "      <td>Atzelgift</td>\n",
       "    </tr>\n",
       "    <tr>\n",
       "      <th>2507</th>\n",
       "      <td>73207</td>\n",
       "      <td>1</td>\n",
       "      <td>08116</td>\n",
       "      <td>13508</td>\n",
       "      <td>Landkreis Esslingen</td>\n",
       "      <td>Plochingen</td>\n",
       "    </tr>\n",
       "    <tr>\n",
       "      <th>175</th>\n",
       "      <td>07907</td>\n",
       "      <td>2</td>\n",
       "      <td>16075</td>\n",
       "      <td>12574</td>\n",
       "      <td>Saale-Orla-Kreis</td>\n",
       "      <td>Dittersdorf</td>\n",
       "    </tr>\n",
       "    <tr>\n",
       "      <th>1758</th>\n",
       "      <td>49733</td>\n",
       "      <td>3</td>\n",
       "      <td>03454</td>\n",
       "      <td>22784</td>\n",
       "      <td>Landkreis Emsland</td>\n",
       "      <td>Haren (Ems)</td>\n",
       "    </tr>\n",
       "    <tr>\n",
       "      <th>2623</th>\n",
       "      <td>76593</td>\n",
       "      <td>1</td>\n",
       "      <td>08216</td>\n",
       "      <td>13755</td>\n",
       "      <td>Landkreis Rastatt</td>\n",
       "      <td>Gernsbach</td>\n",
       "    </tr>\n",
       "    <tr>\n",
       "      <th>3016</th>\n",
       "      <td>88400</td>\n",
       "      <td>1</td>\n",
       "      <td>08426</td>\n",
       "      <td>30869</td>\n",
       "      <td>Landkreis Biberach</td>\n",
       "      <td>Biberach an der Riß</td>\n",
       "    </tr>\n",
       "    <tr>\n",
       "      <th>2825</th>\n",
       "      <td>82964</td>\n",
       "      <td>1</td>\n",
       "      <td>NaN</td>\n",
       "      <td>NaN</td>\n",
       "      <td>NaN</td>\n",
       "      <td>NaN</td>\n",
       "    </tr>\n",
       "    <tr>\n",
       "      <th>1090</th>\n",
       "      <td>30559</td>\n",
       "      <td>2</td>\n",
       "      <td>03241</td>\n",
       "      <td>21419</td>\n",
       "      <td>Region Hannover</td>\n",
       "      <td>Hannover</td>\n",
       "    </tr>\n",
       "    <tr>\n",
       "      <th>2964</th>\n",
       "      <td>86801</td>\n",
       "      <td>1</td>\n",
       "      <td>NaN</td>\n",
       "      <td>NaN</td>\n",
       "      <td>NaN</td>\n",
       "      <td>NaN</td>\n",
       "    </tr>\n",
       "  </tbody>\n",
       "</table>\n",
       "</div>"
      ],
      "text/plain": [
       "     zipcode  description_hash    ags einwohner  \\\n",
       "2703   79117                 2  08311     18272   \n",
       "2580   75172                 4  08231     13892   \n",
       "2403   70374                 1  08111     24823   \n",
       "1865   52531                 2  05370     24238   \n",
       "905    25927                 1  01054      1722   \n",
       "1536   44575                 2  05562     22186   \n",
       "3140   93128                 1  09375     15061   \n",
       "249    10535                 1    NaN       NaN   \n",
       "672    21217                 1  03353     16607   \n",
       "2510   73257                 1  08116      9424   \n",
       "1734   49090                 1  03404     19233   \n",
       "2096   60311                 1  06412      5428   \n",
       "229    10117                 6  11000     12217   \n",
       "2209   64646                 1  06431     24878   \n",
       "2456   72072                 3  08416     24633   \n",
       "2743   80687                 4  09162     21577   \n",
       "1859   52445                 2  05358      8299   \n",
       "1226   34132                 3  06611     16475   \n",
       "627    19288                 1  13076     16334   \n",
       "2228   65199                 1  06414     22952   \n",
       "3249   97440                 2  09678     10304   \n",
       "722    22305                 4  02000     13746   \n",
       "308    12053                 2  11000     15373   \n",
       "1071   30165                 1  03241     22608   \n",
       "1635   46459                 1  05154     21612   \n",
       "724    22335                 5  02000     13775   \n",
       "2884   85057                 5  09161     20627   \n",
       "551    17258                 1  13071      4587   \n",
       "1966   56112                 2  07141     17692   \n",
       "2115   60439                 5  06412     35056   \n",
       "203    09116                 1  14511     18176   \n",
       "1643   46562                 1  05170     37269   \n",
       "2511   73262                 1  08116      7876   \n",
       "560    17440                 1  13075      5407   \n",
       "1034   29227                 3  03351     13144   \n",
       "3146   93192                 1  09372      2813   \n",
       "1269   35633                 2  06532      8102   \n",
       "474    15507                 1    NaN       NaN   \n",
       "1615   45966                 2  05562     25148   \n",
       "3230   97078                 1  09663     12275   \n",
       "2058   59065                 2  05915     22901   \n",
       "2020   57629                 1  07143     10186   \n",
       "2507   73207                 1  08116     13508   \n",
       "175    07907                 2  16075     12574   \n",
       "1758   49733                 3  03454     22784   \n",
       "2623   76593                 1  08216     13755   \n",
       "3016   88400                 1  08426     30869   \n",
       "2825   82964                 1    NaN       NaN   \n",
       "1090   30559                 2  03241     21419   \n",
       "2964   86801                 1    NaN       NaN   \n",
       "\n",
       "                                  landkreis                        ort  \n",
       "2703                                   None       Freiburg im Breisgau  \n",
       "2580                                   None                  Pforzheim  \n",
       "2403                                   None                  Stuttgart  \n",
       "1865                        Kreis Heinsberg            Übach-Palenberg  \n",
       "905                     Kreis Nordfriesland                   Aventoft  \n",
       "1536                   Kreis Recklinghausen             Castrop-Rauxel  \n",
       "3140                   Landkreis Regensburg                 Regenstauf  \n",
       "249                                     NaN                        NaN  \n",
       "672                       Landkreis Harburg                   Seevetal  \n",
       "2510                    Landkreis Esslingen                     Köngen  \n",
       "1734                                   None                  Osnabrück  \n",
       "2096                                   None          Frankfurt am Main  \n",
       "229                                    None                     Berlin  \n",
       "2209                       Kreis Bergstraße                 Heppenheim  \n",
       "2456                     Landkreis Tübingen                   Tübingen  \n",
       "2743                                   None                    München  \n",
       "1859                            Kreis Düren                       Titz  \n",
       "1226                                   None                     Kassel  \n",
       "627           Landkreis Ludwigslust-Parchim               Alt Krenzlin  \n",
       "2228                                   None                  Wiesbaden  \n",
       "3249                  Landkreis Schweinfurt                    Werneck  \n",
       "722                                    None                    Hamburg  \n",
       "308                                    None                     Berlin  \n",
       "1071                        Region Hannover                   Hannover  \n",
       "1635                            Kreis Kleve                       Rees  \n",
       "724                                    None                    Hamburg  \n",
       "2884                                   None                 Ingolstadt  \n",
       "551   Landkreis Mecklenburgische Seenplatte  Feldberger Seenlandschaft  \n",
       "1966                       Rhein-Lahn-Kreis                  Lahnstein  \n",
       "2115                                   None          Frankfurt am Main  \n",
       "203                                    None                   Chemnitz  \n",
       "1643                            Kreis Wesel       Voerde (Niederrhein)  \n",
       "2511                    Landkreis Esslingen    Reichenbach an der Fils  \n",
       "560         Landkreis Vorpommern-Greifswald                Buggenhagen  \n",
       "1034                        Landkreis Celle                      Celle  \n",
       "3146                         Landkreis Cham                       Wald  \n",
       "1269                        Lahn-Dill-Kreis                     Lahnau  \n",
       "474                                     NaN                        NaN  \n",
       "1615                   Kreis Recklinghausen                   Gladbeck  \n",
       "3230                                   None                   Würzburg  \n",
       "2058                                   None                       Hamm  \n",
       "2020                        Westerwaldkreis                  Atzelgift  \n",
       "2507                    Landkreis Esslingen                 Plochingen  \n",
       "175                        Saale-Orla-Kreis                Dittersdorf  \n",
       "1758                      Landkreis Emsland                Haren (Ems)  \n",
       "2623                      Landkreis Rastatt                  Gernsbach  \n",
       "3016                     Landkreis Biberach        Biberach an der Riß  \n",
       "2825                                    NaN                        NaN  \n",
       "1090                        Region Hannover                   Hannover  \n",
       "2964                                    NaN                        NaN  "
      ]
     },
     "execution_count": 353,
     "metadata": {},
     "output_type": "execute_result"
    }
   ],
   "source": [
    "df_osm_plz = pd.read_csv(\"plz_de.csv\", dtype=str)\n",
    "df_osm_plz = df_osm_plz[[\"plz\", \"ags\", \"einwohner\", \"landkreis\", \"ort\"]]\n",
    "\n",
    "df_osm_plz.ags = df_osm_plz.ags.str.slice(0, 5)\n",
    "\n",
    "df_osm_plz.rename(columns={\"plz\": \"zipcode\"}, inplace=True)\n",
    "df_osm_plz = df_osm_plz.groupby(\"zipcode\").last()\n",
    "\n",
    "\n",
    "joined = eröffnung_court_nw.join(df_osm_plz, on=[\"zipcode\"], how=\"left\")\n",
    "joined.sample(50)"
   ]
  },
  {
   "cell_type": "code",
   "execution_count": 354,
   "id": "838f3f9c",
   "metadata": {},
   "outputs": [],
   "source": [
    "joined.einwohner = joined.einwohner.astype(float)"
   ]
  },
  {
   "cell_type": "code",
   "execution_count": 251,
   "id": "5834ce0a",
   "metadata": {
    "scrolled": true
   },
   "outputs": [],
   "source": [
    "joined[\"ratio\"] = joined[\"description_hash\"]/joined[\"einwohner\"]*1000"
   ]
  },
  {
   "cell_type": "code",
   "execution_count": 196,
   "id": "5b026b45",
   "metadata": {},
   "outputs": [],
   "source": [
    "#joined.to_csv('eröffnung_zip_nw_90T_IK_1000.csv')"
   ]
  },
  {
   "cell_type": "code",
   "execution_count": 210,
   "id": "4ef7d6dc",
   "metadata": {
    "collapsed": true
   },
   "outputs": [
    {
     "ename": "KeyError",
     "evalue": "\"['ratio'] not found in axis\"",
     "output_type": "error",
     "traceback": [
      "\u001b[0;31m---------------------------------------------------------------------------\u001b[0m",
      "\u001b[0;31mKeyError\u001b[0m                                  Traceback (most recent call last)",
      "\u001b[0;32m/tmp/ipykernel_15603/389786522.py\u001b[0m in \u001b[0;36m<module>\u001b[0;34m\u001b[0m\n\u001b[0;32m----> 1\u001b[0;31m \u001b[0mjoined\u001b[0m \u001b[0;34m=\u001b[0m \u001b[0mjoined\u001b[0m\u001b[0;34m.\u001b[0m\u001b[0mdrop\u001b[0m\u001b[0;34m(\u001b[0m\u001b[0mcolumns\u001b[0m\u001b[0;34m=\u001b[0m\u001b[0;34m[\u001b[0m\u001b[0;34m\"zipcode\"\u001b[0m\u001b[0;34m,\u001b[0m \u001b[0;34m\"ratio\"\u001b[0m\u001b[0;34m]\u001b[0m\u001b[0;34m)\u001b[0m\u001b[0;34m\u001b[0m\u001b[0;34m\u001b[0m\u001b[0m\n\u001b[0m",
      "\u001b[0;32m~/.local/share/virtualenvs/insolvenzen-BCjphKjB/lib/python3.8/site-packages/pandas/util/_decorators.py\u001b[0m in \u001b[0;36mwrapper\u001b[0;34m(*args, **kwargs)\u001b[0m\n\u001b[1;32m    309\u001b[0m                     \u001b[0mstacklevel\u001b[0m\u001b[0;34m=\u001b[0m\u001b[0mstacklevel\u001b[0m\u001b[0;34m,\u001b[0m\u001b[0;34m\u001b[0m\u001b[0;34m\u001b[0m\u001b[0m\n\u001b[1;32m    310\u001b[0m                 )\n\u001b[0;32m--> 311\u001b[0;31m             \u001b[0;32mreturn\u001b[0m \u001b[0mfunc\u001b[0m\u001b[0;34m(\u001b[0m\u001b[0;34m*\u001b[0m\u001b[0margs\u001b[0m\u001b[0;34m,\u001b[0m \u001b[0;34m**\u001b[0m\u001b[0mkwargs\u001b[0m\u001b[0;34m)\u001b[0m\u001b[0;34m\u001b[0m\u001b[0;34m\u001b[0m\u001b[0m\n\u001b[0m\u001b[1;32m    312\u001b[0m \u001b[0;34m\u001b[0m\u001b[0m\n\u001b[1;32m    313\u001b[0m         \u001b[0;32mreturn\u001b[0m \u001b[0mwrapper\u001b[0m\u001b[0;34m\u001b[0m\u001b[0;34m\u001b[0m\u001b[0m\n",
      "\u001b[0;32m~/.local/share/virtualenvs/insolvenzen-BCjphKjB/lib/python3.8/site-packages/pandas/core/frame.py\u001b[0m in \u001b[0;36mdrop\u001b[0;34m(self, labels, axis, index, columns, level, inplace, errors)\u001b[0m\n\u001b[1;32m   4899\u001b[0m         \u001b[0mlama\u001b[0m    \u001b[0mspeed\u001b[0m   \u001b[0;36m45.0\u001b[0m    \u001b[0;36m30.0\u001b[0m\u001b[0;34m\u001b[0m\u001b[0;34m\u001b[0m\u001b[0m\n\u001b[1;32m   4900\u001b[0m                 \u001b[0mweight\u001b[0m  \u001b[0;36m200.0\u001b[0m   \u001b[0;36m100.0\u001b[0m\u001b[0;34m\u001b[0m\u001b[0;34m\u001b[0m\u001b[0m\n\u001b[0;32m-> 4901\u001b[0;31m         \u001b[0mcow\u001b[0m     \u001b[0mspeed\u001b[0m   \u001b[0;36m30.0\u001b[0m    \u001b[0;36m20.0\u001b[0m\u001b[0;34m\u001b[0m\u001b[0;34m\u001b[0m\u001b[0m\n\u001b[0m\u001b[1;32m   4902\u001b[0m                 \u001b[0mweight\u001b[0m  \u001b[0;36m250.0\u001b[0m   \u001b[0;36m150.0\u001b[0m\u001b[0;34m\u001b[0m\u001b[0;34m\u001b[0m\u001b[0m\n\u001b[1;32m   4903\u001b[0m         \u001b[0mfalcon\u001b[0m  \u001b[0mspeed\u001b[0m   \u001b[0;36m320.0\u001b[0m   \u001b[0;36m250.0\u001b[0m\u001b[0;34m\u001b[0m\u001b[0;34m\u001b[0m\u001b[0m\n",
      "\u001b[0;32m~/.local/share/virtualenvs/insolvenzen-BCjphKjB/lib/python3.8/site-packages/pandas/core/generic.py\u001b[0m in \u001b[0;36mdrop\u001b[0;34m(self, labels, axis, index, columns, level, inplace, errors)\u001b[0m\n\u001b[1;32m   4148\u001b[0m         \u001b[0;32mfor\u001b[0m \u001b[0maxis\u001b[0m\u001b[0;34m,\u001b[0m \u001b[0mlabels\u001b[0m \u001b[0;32min\u001b[0m \u001b[0maxes\u001b[0m\u001b[0;34m.\u001b[0m\u001b[0mitems\u001b[0m\u001b[0;34m(\u001b[0m\u001b[0;34m)\u001b[0m\u001b[0;34m:\u001b[0m\u001b[0;34m\u001b[0m\u001b[0;34m\u001b[0m\u001b[0m\n\u001b[1;32m   4149\u001b[0m             \u001b[0;32mif\u001b[0m \u001b[0mlabels\u001b[0m \u001b[0;32mis\u001b[0m \u001b[0;32mnot\u001b[0m \u001b[0;32mNone\u001b[0m\u001b[0;34m:\u001b[0m\u001b[0;34m\u001b[0m\u001b[0;34m\u001b[0m\u001b[0m\n\u001b[0;32m-> 4150\u001b[0;31m                 \u001b[0mobj\u001b[0m \u001b[0;34m=\u001b[0m \u001b[0mobj\u001b[0m\u001b[0;34m.\u001b[0m\u001b[0m_drop_axis\u001b[0m\u001b[0;34m(\u001b[0m\u001b[0mlabels\u001b[0m\u001b[0;34m,\u001b[0m \u001b[0maxis\u001b[0m\u001b[0;34m,\u001b[0m \u001b[0mlevel\u001b[0m\u001b[0;34m=\u001b[0m\u001b[0mlevel\u001b[0m\u001b[0;34m,\u001b[0m \u001b[0merrors\u001b[0m\u001b[0;34m=\u001b[0m\u001b[0merrors\u001b[0m\u001b[0;34m)\u001b[0m\u001b[0;34m\u001b[0m\u001b[0;34m\u001b[0m\u001b[0m\n\u001b[0m\u001b[1;32m   4151\u001b[0m \u001b[0;34m\u001b[0m\u001b[0m\n\u001b[1;32m   4152\u001b[0m         \u001b[0;32mif\u001b[0m \u001b[0minplace\u001b[0m\u001b[0;34m:\u001b[0m\u001b[0;34m\u001b[0m\u001b[0;34m\u001b[0m\u001b[0m\n",
      "\u001b[0;32m~/.local/share/virtualenvs/insolvenzen-BCjphKjB/lib/python3.8/site-packages/pandas/core/generic.py\u001b[0m in \u001b[0;36m_drop_axis\u001b[0;34m(self, labels, axis, level, errors)\u001b[0m\n\u001b[1;32m   4183\u001b[0m                 \u001b[0mnew_axis\u001b[0m \u001b[0;34m=\u001b[0m \u001b[0maxis\u001b[0m\u001b[0;34m.\u001b[0m\u001b[0mdrop\u001b[0m\u001b[0;34m(\u001b[0m\u001b[0mlabels\u001b[0m\u001b[0;34m,\u001b[0m \u001b[0mlevel\u001b[0m\u001b[0;34m=\u001b[0m\u001b[0mlevel\u001b[0m\u001b[0;34m,\u001b[0m \u001b[0merrors\u001b[0m\u001b[0;34m=\u001b[0m\u001b[0merrors\u001b[0m\u001b[0;34m)\u001b[0m\u001b[0;34m\u001b[0m\u001b[0;34m\u001b[0m\u001b[0m\n\u001b[1;32m   4184\u001b[0m             \u001b[0;32melse\u001b[0m\u001b[0;34m:\u001b[0m\u001b[0;34m\u001b[0m\u001b[0;34m\u001b[0m\u001b[0m\n\u001b[0;32m-> 4185\u001b[0;31m                 \u001b[0mnew_axis\u001b[0m \u001b[0;34m=\u001b[0m \u001b[0maxis\u001b[0m\u001b[0;34m.\u001b[0m\u001b[0mdrop\u001b[0m\u001b[0;34m(\u001b[0m\u001b[0mlabels\u001b[0m\u001b[0;34m,\u001b[0m \u001b[0merrors\u001b[0m\u001b[0;34m=\u001b[0m\u001b[0merrors\u001b[0m\u001b[0;34m)\u001b[0m\u001b[0;34m\u001b[0m\u001b[0;34m\u001b[0m\u001b[0m\n\u001b[0m\u001b[1;32m   4186\u001b[0m             \u001b[0mresult\u001b[0m \u001b[0;34m=\u001b[0m \u001b[0mself\u001b[0m\u001b[0;34m.\u001b[0m\u001b[0mreindex\u001b[0m\u001b[0;34m(\u001b[0m\u001b[0;34m**\u001b[0m\u001b[0;34m{\u001b[0m\u001b[0maxis_name\u001b[0m\u001b[0;34m:\u001b[0m \u001b[0mnew_axis\u001b[0m\u001b[0;34m}\u001b[0m\u001b[0;34m)\u001b[0m\u001b[0;34m\u001b[0m\u001b[0;34m\u001b[0m\u001b[0m\n\u001b[1;32m   4187\u001b[0m \u001b[0;34m\u001b[0m\u001b[0m\n",
      "\u001b[0;32m~/.local/share/virtualenvs/insolvenzen-BCjphKjB/lib/python3.8/site-packages/pandas/core/indexes/base.py\u001b[0m in \u001b[0;36mdrop\u001b[0;34m(self, labels, errors)\u001b[0m\n\u001b[1;32m   6016\u001b[0m             \u001b[0;32mif\u001b[0m \u001b[0merrors\u001b[0m \u001b[0;34m!=\u001b[0m \u001b[0;34m\"ignore\"\u001b[0m\u001b[0;34m:\u001b[0m\u001b[0;34m\u001b[0m\u001b[0;34m\u001b[0m\u001b[0m\n\u001b[1;32m   6017\u001b[0m                 \u001b[0;32mraise\u001b[0m \u001b[0mKeyError\u001b[0m\u001b[0;34m(\u001b[0m\u001b[0;34mf\"{labels[mask]} not found in axis\"\u001b[0m\u001b[0;34m)\u001b[0m\u001b[0;34m\u001b[0m\u001b[0;34m\u001b[0m\u001b[0m\n\u001b[0;32m-> 6018\u001b[0;31m             \u001b[0mindexer\u001b[0m \u001b[0;34m=\u001b[0m \u001b[0mindexer\u001b[0m\u001b[0;34m[\u001b[0m\u001b[0;34m~\u001b[0m\u001b[0mmask\u001b[0m\u001b[0;34m]\u001b[0m\u001b[0;34m\u001b[0m\u001b[0;34m\u001b[0m\u001b[0m\n\u001b[0m\u001b[1;32m   6019\u001b[0m         \u001b[0;32mreturn\u001b[0m \u001b[0mself\u001b[0m\u001b[0;34m.\u001b[0m\u001b[0mdelete\u001b[0m\u001b[0;34m(\u001b[0m\u001b[0mindexer\u001b[0m\u001b[0;34m)\u001b[0m\u001b[0;34m\u001b[0m\u001b[0;34m\u001b[0m\u001b[0m\n\u001b[1;32m   6020\u001b[0m \u001b[0;34m\u001b[0m\u001b[0m\n",
      "\u001b[0;31mKeyError\u001b[0m: \"['ratio'] not found in axis\""
     ]
    }
   ],
   "source": [
    "joined = joined.drop(columns=[\"zipcode\", \"ratio\"])"
   ]
  },
  {
   "cell_type": "code",
   "execution_count": 198,
   "id": "2b97a7da",
   "metadata": {},
   "outputs": [],
   "source": [
    "#joined = joined.dropna"
   ]
  },
  {
   "cell_type": "code",
   "execution_count": 355,
   "id": "fded2add",
   "metadata": {},
   "outputs": [],
   "source": [
    "joined = joined.groupby([\"ags\", \"landkreis\"], as_index= False).sum()"
   ]
  },
  {
   "cell_type": "code",
   "execution_count": 356,
   "id": "31fef269",
   "metadata": {},
   "outputs": [
    {
     "data": {
      "text/html": [
       "<div>\n",
       "<style scoped>\n",
       "    .dataframe tbody tr th:only-of-type {\n",
       "        vertical-align: middle;\n",
       "    }\n",
       "\n",
       "    .dataframe tbody tr th {\n",
       "        vertical-align: top;\n",
       "    }\n",
       "\n",
       "    .dataframe thead th {\n",
       "        text-align: right;\n",
       "    }\n",
       "</style>\n",
       "<table border=\"1\" class=\"dataframe\">\n",
       "  <thead>\n",
       "    <tr style=\"text-align: right;\">\n",
       "      <th></th>\n",
       "      <th>ags</th>\n",
       "      <th>landkreis</th>\n",
       "      <th>description_hash</th>\n",
       "      <th>einwohner</th>\n",
       "    </tr>\n",
       "  </thead>\n",
       "  <tbody>\n",
       "    <tr>\n",
       "      <th>0</th>\n",
       "      <td>01051</td>\n",
       "      <td>Kreis Dithmarschen</td>\n",
       "      <td>19</td>\n",
       "      <td>79635.0</td>\n",
       "    </tr>\n",
       "    <tr>\n",
       "      <th>1</th>\n",
       "      <td>01053</td>\n",
       "      <td>Kreis Herzogtum Lauenburg</td>\n",
       "      <td>12</td>\n",
       "      <td>126782.0</td>\n",
       "    </tr>\n",
       "    <tr>\n",
       "      <th>2</th>\n",
       "      <td>01054</td>\n",
       "      <td>Kreis Nordfriesland</td>\n",
       "      <td>19</td>\n",
       "      <td>63147.0</td>\n",
       "    </tr>\n",
       "    <tr>\n",
       "      <th>3</th>\n",
       "      <td>01055</td>\n",
       "      <td>Kreis Ostholstein</td>\n",
       "      <td>12</td>\n",
       "      <td>112506.0</td>\n",
       "    </tr>\n",
       "    <tr>\n",
       "      <th>4</th>\n",
       "      <td>01056</td>\n",
       "      <td>Kreis Pinneberg</td>\n",
       "      <td>17</td>\n",
       "      <td>184139.0</td>\n",
       "    </tr>\n",
       "  </tbody>\n",
       "</table>\n",
       "</div>"
      ],
      "text/plain": [
       "     ags                  landkreis  description_hash  einwohner\n",
       "0  01051         Kreis Dithmarschen                19    79635.0\n",
       "1  01053  Kreis Herzogtum Lauenburg                12   126782.0\n",
       "2  01054        Kreis Nordfriesland                19    63147.0\n",
       "3  01055          Kreis Ostholstein                12   112506.0\n",
       "4  01056            Kreis Pinneberg                17   184139.0"
      ]
     },
     "execution_count": 356,
     "metadata": {},
     "output_type": "execute_result"
    }
   ],
   "source": [
    "joined.head()"
   ]
  },
  {
   "cell_type": "code",
   "execution_count": 357,
   "id": "c8bf47a0",
   "metadata": {},
   "outputs": [
    {
     "data": {
      "text/html": [
       "<div>\n",
       "<style scoped>\n",
       "    .dataframe tbody tr th:only-of-type {\n",
       "        vertical-align: middle;\n",
       "    }\n",
       "\n",
       "    .dataframe tbody tr th {\n",
       "        vertical-align: top;\n",
       "    }\n",
       "\n",
       "    .dataframe thead th {\n",
       "        text-align: right;\n",
       "    }\n",
       "</style>\n",
       "<table border=\"1\" class=\"dataframe\">\n",
       "  <thead>\n",
       "    <tr style=\"text-align: right;\">\n",
       "      <th></th>\n",
       "      <th>ags</th>\n",
       "      <th>landkreis</th>\n",
       "      <th>description_hash</th>\n",
       "      <th>einwohner</th>\n",
       "    </tr>\n",
       "  </thead>\n",
       "  <tbody>\n",
       "  </tbody>\n",
       "</table>\n",
       "</div>"
      ],
      "text/plain": [
       "Empty DataFrame\n",
       "Columns: [ags, landkreis, description_hash, einwohner]\n",
       "Index: []"
      ]
     },
     "execution_count": 357,
     "metadata": {},
     "output_type": "execute_result"
    }
   ],
   "source": [
    "joined[joined['ags'].isna()]"
   ]
  },
  {
   "cell_type": "code",
   "execution_count": 358,
   "id": "726e7cf7",
   "metadata": {},
   "outputs": [
    {
     "data": {
      "text/plain": [
       "ags                 0\n",
       "landkreis           0\n",
       "description_hash    0\n",
       "einwohner           0\n",
       "dtype: int64"
      ]
     },
     "execution_count": 358,
     "metadata": {},
     "output_type": "execute_result"
    }
   ],
   "source": [
    "joined.isnull().sum() # 21,57 % der Werte fehlen !"
   ]
  },
  {
   "cell_type": "code",
   "execution_count": 321,
   "id": "1bc03a31",
   "metadata": {},
   "outputs": [],
   "source": [
    "joined[\"ratio\"] = joined[\"description_hash\"]/joined[\"einwohner\"]*100000"
   ]
  },
  {
   "cell_type": "code",
   "execution_count": 322,
   "id": "602deea8",
   "metadata": {},
   "outputs": [],
   "source": [
    "joined.to_csv('90T_joined_in_eröffnet_bund_kreis_100000.csv')"
   ]
  },
  {
   "cell_type": "code",
   "execution_count": 312,
   "id": "09530808",
   "metadata": {},
   "outputs": [
    {
     "data": {
      "text/plain": [
       "292"
      ]
     },
     "execution_count": 312,
     "metadata": {},
     "output_type": "execute_result"
    }
   ],
   "source": [
    "len(joined.landkreis.unique())"
   ]
  },
  {
   "cell_type": "code",
   "execution_count": 30,
   "id": "a6d727e7",
   "metadata": {},
   "outputs": [],
   "source": [
    "nw_eröffnet_ik_week = (\n",
    "    data_nw_ik[[\"date_of_publication\", \"description_hash\"]]\n",
    "    .groupby([pd.Grouper(key=\"date_of_publication\", freq=\"W-MON\", label=\"left\")])\n",
    "    .count()\n",
    ")"
   ]
  },
  {
   "cell_type": "code",
   "execution_count": 118,
   "id": "25550e23",
   "metadata": {},
   "outputs": [],
   "source": []
  },
  {
   "cell_type": "code",
   "execution_count": 44,
   "id": "ec57440b",
   "metadata": {},
   "outputs": [
    {
     "data": {
      "text/plain": [
       "array(['bb', 'nw', 'sh', 'ns', 'by', 'sn', 'bw', 'be', 'st', 'he', 'rp',\n",
       "       'hb', 'mv', 'hh', 'sl', 'th', 'Bayern', 'Rheinland-Pfalz',\n",
       "       'Thüringen', 'Schleswig-Holstein', 'Sachsen-Anhalt', 'Sachsen',\n",
       "       'Saarland', 'Nordrhein-Westfalen', 'Niedersachsen',\n",
       "       'Mecklenburg-Vorpommern', 'Hessen', 'Hamburg', 'Bremen',\n",
       "       'Brandenburg', 'Berlin', 'Baden-Württemberg'], dtype=object)"
      ]
     },
     "execution_count": 44,
     "metadata": {},
     "output_type": "execute_result"
    }
   ],
   "source": [
    "df.federal_state.unique()"
   ]
  },
  {
   "cell_type": "code",
   "execution_count": null,
   "id": "f0a85b3c",
   "metadata": {},
   "outputs": [],
   "source": [
    "# IK = Verbraucherinsolvenz\n",
    "\n",
    "def ik_kind(df):\n",
    "    ik_verbraucher = (df[df['kind'] == 'ik'])\n",
    "    return ik_verbraucher\n",
    "\n",
    "# Funktion def wird ausgeführt\n",
    "data_ik = ik_kind(df)"
   ]
  },
  {
   "cell_type": "markdown",
   "id": "34493436",
   "metadata": {},
   "source": [
    "### Art des Verfahrens"
   ]
  },
  {
   "cell_type": "code",
   "execution_count": 18,
   "id": "cd8f9115",
   "metadata": {},
   "outputs": [
    {
     "data": {
      "text/plain": [
       "array(['Entscheidungen_im_Verfahren', 'Eroeffnung',\n",
       "       'Entscheidungen_im_Restschuldbefreiungsverfahren', 'Termine',\n",
       "       'Entscheidungen_nach_Aufhebung',\n",
       "       'Verwalter_Treuhaender_Verteilungsverzeichnis',\n",
       "       'Entscheidungen_im_Verfahren_Aufhebung_Einstellung',\n",
       "       'Restschuldbefreiung', 'Entscheidungen_im_Verfahren_mit_Termine',\n",
       "       'Sonstiges', 'Bestimmung_Termine', 'InsO_d_Verw_Treuh_',\n",
       "       'Sonstiges_ausserhalb_des_Verfahresn', 'Eroeffnungen',\n",
       "       'Eroeffnung_Insolvenzverfahren',\n",
       "       'Restschuldbefreiung_Erteilung_Versagung',\n",
       "       'Abweisungen_mangels_Masse', 'Sicherungsmassnahmen',\n",
       "       'Anordnung_Sicherungsmassnahmen',\n",
       "       'Verteilungsverzeichnis_Nachtragsvert_Loeschung',\n",
       "       'Entscheidungen_nach_Aufhebung_des_Verfahrens',\n",
       "       'Sicherungsmassnahme_Aufhebung', 'InsO_Plan_Ueberwachung',\n",
       "       'InsO_Plan_Aufhebung_Ueberwachung', 'Ueberwachte_Insolvenzplaene',\n",
       "       'InsO_Plan_Ankuendigung_Ueberwachung',\n",
       "       'Verteilungsverzeichnisse_(§_188_InsO)_d._Verw./Treuh.',\n",
       "       'Eröffnungen', 'Sicherungsmaßnahmen', 'Überwachte_Insolvenzpläne'],\n",
       "      dtype=object)"
      ]
     },
     "execution_count": 18,
     "metadata": {},
     "output_type": "execute_result"
    }
   ],
   "source": [
    "df.type_of_proceeding.unique()"
   ]
  },
  {
   "cell_type": "code",
   "execution_count": 25,
   "id": "efcc6de6",
   "metadata": {},
   "outputs": [],
   "source": [
    "def in_eröffnung(data_in):\n",
    "    in_eröffnet = data_in[data_in['type_of_proceeding'].isin(['Eröffnungen', 'Eroeffnung', 'Eroeffnung_Insolvenzverfahren', 'Eroeffnungen'])]\n",
    "    return in_eröffnet\n",
    "\n",
    "# Funktion def wird ausgeführt\n",
    "data_eröffnet_in = in_eröffnung(data_in)"
   ]
  },
  {
   "cell_type": "code",
   "execution_count": 36,
   "id": "5a302408",
   "metadata": {},
   "outputs": [],
   "source": [
    "data_eröffnet_in.to_csv('data_eröffnung_in_bund.csv')"
   ]
  },
  {
   "cell_type": "markdown",
   "id": "2dc5a840",
   "metadata": {},
   "source": [
    "# Verbraucher"
   ]
  },
  {
   "cell_type": "code",
   "execution_count": null,
   "id": "6760766f",
   "metadata": {},
   "outputs": [],
   "source": [
    "def ik_eröffnung(df):\n",
    "    ik_eröffnet = df[df['type_of_proceeding'].isin(['Eröffnungen', 'Eroeffnung', 'Eroeffnung_Insolvenzverfahren', 'Eroeffnungen'])]\n",
    "    return ik_eröffnet\n",
    "\n",
    "# Funktion def wird ausgeführt\n",
    "data_eröffnet = ik_eröffnung(df)"
   ]
  },
  {
   "cell_type": "code",
   "execution_count": null,
   "id": "a93121d9",
   "metadata": {},
   "outputs": [],
   "source": []
  },
  {
   "cell_type": "code",
   "execution_count": null,
   "id": "61ec9683",
   "metadata": {},
   "outputs": [],
   "source": [
    "def ik_masse(df):\n",
    "    ik_mangels_masse = df[df['type_of_proceeding'].isin(['Abweisungen_mangels_Masse'])]\n",
    "    return ik_mangels_masse\n",
    "\n",
    "# Funktion def wird ausgeführt\n",
    "data_masse = ik_masse(df)"
   ]
  },
  {
   "cell_type": "code",
   "execution_count": null,
   "id": "29d03ddf",
   "metadata": {},
   "outputs": [],
   "source": [
    "def ik_sicher(df):\n",
    "    ik_sicherung = df[df['type_of_proceeding'].isin(['Anordnung_Sicherungsmassnahmen', 'Sicherungsmassnahmen'])]\n",
    "    return ik_sicherung\n",
    "\n",
    "# Funktion def wird ausgeführt\n",
    "data_sicher = ik_sicher(df)"
   ]
  },
  {
   "cell_type": "markdown",
   "id": "8d3f3e3e",
   "metadata": {},
   "source": [
    "### groupby Bundesland descrptionhash"
   ]
  },
  {
   "cell_type": "code",
   "execution_count": null,
   "id": "6c886d92",
   "metadata": {},
   "outputs": [],
   "source": []
  },
  {
   "cell_type": "code",
   "execution_count": null,
   "id": "af3b85bc",
   "metadata": {},
   "outputs": [],
   "source": []
  },
  {
   "cell_type": "markdown",
   "id": "baccbc99",
   "metadata": {},
   "source": [
    "### groupby zipcode Bundesweit"
   ]
  },
  {
   "cell_type": "code",
   "execution_count": null,
   "id": "a30e3333",
   "metadata": {},
   "outputs": [],
   "source": []
  },
  {
   "cell_type": "code",
   "execution_count": null,
   "id": "0d4c8be5",
   "metadata": {},
   "outputs": [],
   "source": [
    "freq_in_nw_eröffnung_zipcode = data_nw_eröffnet.groupby(['zipcode'], as_index=False).count()\n",
    "freq_in_nw_eröffnung_zipcode.sample(10)"
   ]
  },
  {
   "cell_type": "markdown",
   "id": "d6760d82",
   "metadata": {},
   "source": [
    "### Groupby Inolvenzgericht"
   ]
  },
  {
   "cell_type": "code",
   "execution_count": null,
   "id": "52b784dd",
   "metadata": {},
   "outputs": [],
   "source": []
  },
  {
   "cell_type": "code",
   "execution_count": null,
   "id": "c8f00f5a",
   "metadata": {},
   "outputs": [],
   "source": []
  },
  {
   "cell_type": "markdown",
   "id": "b70431c8",
   "metadata": {},
   "source": [
    "### Groupby week"
   ]
  },
  {
   "cell_type": "code",
   "execution_count": 32,
   "id": "56118241",
   "metadata": {},
   "outputs": [],
   "source": [
    "data_eröffnet_in_week = (\n",
    "    data_eröffnet_in[[\"date_of_publication\", \"description_hash\"]]\n",
    "    .groupby(pd.Grouper(key=\"date_of_publication\", freq=\"W-MON\", label=\"left\"))\n",
    "    .count()\n",
    ")"
   ]
  },
  {
   "cell_type": "code",
   "execution_count": 33,
   "id": "301686e8",
   "metadata": {},
   "outputs": [
    {
     "data": {
      "text/html": [
       "<div>\n",
       "<style scoped>\n",
       "    .dataframe tbody tr th:only-of-type {\n",
       "        vertical-align: middle;\n",
       "    }\n",
       "\n",
       "    .dataframe tbody tr th {\n",
       "        vertical-align: top;\n",
       "    }\n",
       "\n",
       "    .dataframe thead th {\n",
       "        text-align: right;\n",
       "    }\n",
       "</style>\n",
       "<table border=\"1\" class=\"dataframe\">\n",
       "  <thead>\n",
       "    <tr style=\"text-align: right;\">\n",
       "      <th></th>\n",
       "      <th>description_hash</th>\n",
       "    </tr>\n",
       "    <tr>\n",
       "      <th>date_of_publication</th>\n",
       "      <th></th>\n",
       "    </tr>\n",
       "  </thead>\n",
       "  <tbody>\n",
       "    <tr>\n",
       "      <th>2018-12-31</th>\n",
       "      <td>392</td>\n",
       "    </tr>\n",
       "    <tr>\n",
       "      <th>2019-01-07</th>\n",
       "      <td>249</td>\n",
       "    </tr>\n",
       "    <tr>\n",
       "      <th>2019-01-14</th>\n",
       "      <td>231</td>\n",
       "    </tr>\n",
       "    <tr>\n",
       "      <th>2019-01-21</th>\n",
       "      <td>233</td>\n",
       "    </tr>\n",
       "    <tr>\n",
       "      <th>2019-01-28</th>\n",
       "      <td>445</td>\n",
       "    </tr>\n",
       "  </tbody>\n",
       "</table>\n",
       "</div>"
      ],
      "text/plain": [
       "                     description_hash\n",
       "date_of_publication                  \n",
       "2018-12-31                        392\n",
       "2019-01-07                        249\n",
       "2019-01-14                        231\n",
       "2019-01-21                        233\n",
       "2019-01-28                        445"
      ]
     },
     "execution_count": 33,
     "metadata": {},
     "output_type": "execute_result"
    }
   ],
   "source": [
    "data_eröffnet_in_week.head()"
   ]
  },
  {
   "cell_type": "code",
   "execution_count": 35,
   "id": "d9d86c8f",
   "metadata": {},
   "outputs": [],
   "source": [
    "data_eröffnet_in_week.to_csv('freq_in_eröffnung_bund.csv')"
   ]
  },
  {
   "cell_type": "markdown",
   "id": "9602fc81",
   "metadata": {},
   "source": [
    "### Alter "
   ]
  },
  {
   "cell_type": "code",
   "execution_count": null,
   "id": "55c85368",
   "metadata": {},
   "outputs": [],
   "source": [
    "freq_in_nw_eröffnung_birth = freq_in_nw_eröffnung_birth.groupby(['date_of_birth'], as_index=False).count()\n",
    "freq_in_nw_eröffnung_birth.sample(10)"
   ]
  },
  {
   "cell_type": "code",
   "execution_count": 6,
   "id": "6ae690d3",
   "metadata": {},
   "outputs": [],
   "source": [
    "data_nw = df[df[\"federal_state\"].isin(['Nordrhein-Westfalen', \"nw\"])]"
   ]
  },
  {
   "cell_type": "code",
   "execution_count": 8,
   "id": "2d73c55d",
   "metadata": {},
   "outputs": [
    {
     "name": "stdout",
     "output_type": "stream",
     "text": [
      "<class 'pandas.core.frame.DataFrame'>\n",
      "Int64Index: 204015 entries, 1341 to 1819821\n",
      "Data columns (total 18 columns):\n",
      " #   Column               Non-Null Count   Dtype         \n",
      "---  ------               --------------   -----         \n",
      " 0   _key                 8959 non-null    object        \n",
      " 1   case_nr              204015 non-null  object        \n",
      " 2   court                204015 non-null  object        \n",
      " 3   date_of_birth        103479 non-null  datetime64[ns]\n",
      " 4   date_of_proceeding   203559 non-null  datetime64[ns]\n",
      " 5   date_of_publication  204015 non-null  datetime64[ns]\n",
      " 6   description_hash     204015 non-null  object        \n",
      " 7   federal_state        204015 non-null  object        \n",
      " 8   file_name            101866 non-null  object        \n",
      " 9   kind                 203915 non-null  object        \n",
      " 10  title                101866 non-null  object        \n",
      " 11  type_of_proceeding   204015 non-null  object        \n",
      " 12  zipcode              203738 non-null  object        \n",
      " 13  detail_form_name     102149 non-null  object        \n",
      " 14  format               102149 non-null  object        \n",
      " 15  name                 102149 non-null  object        \n",
      " 16  register             16605 non-null   object        \n",
      " 17  request_fingerprint  102149 non-null  object        \n",
      "dtypes: datetime64[ns](3), object(15)\n",
      "memory usage: 29.6+ MB\n"
     ]
    }
   ],
   "source": []
  },
  {
   "cell_type": "code",
   "execution_count": 7,
   "id": "e24937b2",
   "metadata": {},
   "outputs": [
    {
     "data": {
      "text/plain": [
       "_key                   195056\n",
       "case_nr                     0\n",
       "court                       0\n",
       "date_of_birth          100536\n",
       "date_of_proceeding        456\n",
       "date_of_publication         0\n",
       "description_hash            0\n",
       "federal_state               0\n",
       "file_name              102149\n",
       "kind                      100\n",
       "title                  102149\n",
       "type_of_proceeding          0\n",
       "zipcode                   277\n",
       "detail_form_name       101866\n",
       "format                 101866\n",
       "name                   101866\n",
       "register               187410\n",
       "request_fingerprint    101866\n",
       "dtype: int64"
      ]
     },
     "execution_count": 7,
     "metadata": {},
     "output_type": "execute_result"
    }
   ],
   "source": [
    "data_nw.isnull().sum() # die Hälfte der Einträge hat keinen Wert in den geburtsdaten. Es macht also keinen Sinn hier eine Berechnung anzuwenden, da die Fehlerquote ienfach hoch wäre."
   ]
  },
  {
   "cell_type": "code",
   "execution_count": 9,
   "id": "61245d0c",
   "metadata": {},
   "outputs": [],
   "source": [
    "def nw_eröffnung(data_nw):\n",
    "    nw_eröffnet = data_nw[data_nw['type_of_proceeding'].isin(['Eröffnungen', 'Eroeffnung', 'Eroeffnung_Insolvenzverfahren'])]\n",
    "    return nw_eröffnet\n",
    "\n",
    "# Funktion def wird ausgeführt\n",
    "data_nw_eröffnet = nw_eröffnung(data_nw)"
   ]
  },
  {
   "cell_type": "code",
   "execution_count": 11,
   "id": "632e52e1",
   "metadata": {},
   "outputs": [
    {
     "name": "stdout",
     "output_type": "stream",
     "text": [
      "<class 'pandas.core.frame.DataFrame'>\n",
      "Int64Index: 32800 entries, 21335 to 1818646\n",
      "Data columns (total 18 columns):\n",
      " #   Column               Non-Null Count  Dtype         \n",
      "---  ------               --------------  -----         \n",
      " 0   _key                 507 non-null    object        \n",
      " 1   case_nr              32800 non-null  object        \n",
      " 2   court                32800 non-null  object        \n",
      " 3   date_of_birth        26980 non-null  datetime64[ns]\n",
      " 4   date_of_proceeding   32666 non-null  datetime64[ns]\n",
      " 5   date_of_publication  32800 non-null  datetime64[ns]\n",
      " 6   description_hash     32800 non-null  object        \n",
      " 7   federal_state        32800 non-null  object        \n",
      " 8   file_name            9769 non-null   object        \n",
      " 9   kind                 32781 non-null  object        \n",
      " 10  title                9769 non-null   object        \n",
      " 11  type_of_proceeding   32800 non-null  object        \n",
      " 12  zipcode              32790 non-null  object        \n",
      " 13  detail_form_name     23031 non-null  object        \n",
      " 14  format               23031 non-null  object        \n",
      " 15  name                 23031 non-null  object        \n",
      " 16  register             4889 non-null   object        \n",
      " 17  request_fingerprint  23031 non-null  object        \n",
      "dtypes: datetime64[ns](3), object(15)\n",
      "memory usage: 4.8+ MB\n"
     ]
    }
   ],
   "source": [
    "data_nw_eröffnet.info()"
   ]
  },
  {
   "cell_type": "code",
   "execution_count": 10,
   "id": "5bba7655",
   "metadata": {},
   "outputs": [
    {
     "data": {
      "text/plain": [
       "_key                   32293\n",
       "case_nr                    0\n",
       "court                      0\n",
       "date_of_birth           5820\n",
       "date_of_proceeding       134\n",
       "date_of_publication        0\n",
       "description_hash           0\n",
       "federal_state              0\n",
       "file_name              23031\n",
       "kind                      19\n",
       "title                  23031\n",
       "type_of_proceeding         0\n",
       "zipcode                   10\n",
       "detail_form_name        9769\n",
       "format                  9769\n",
       "name                    9769\n",
       "register               27911\n",
       "request_fingerprint     9769\n",
       "dtype: int64"
      ]
     },
     "execution_count": 10,
     "metadata": {},
     "output_type": "execute_result"
    }
   ],
   "source": [
    "data_nw_eröffnet.isnull().sum() # 21,57 % der Werte fehlen !"
   ]
  },
  {
   "cell_type": "code",
   "execution_count": null,
   "id": "2100fa51",
   "metadata": {},
   "outputs": [],
   "source": []
  }
 ],
 "metadata": {
  "kernelspec": {
   "display_name": "Python 3",
   "language": "python",
   "name": "python3"
  },
  "language_info": {
   "codemirror_mode": {
    "name": "ipython",
    "version": 3
   },
   "file_extension": ".py",
   "mimetype": "text/x-python",
   "name": "python",
   "nbconvert_exporter": "python",
   "pygments_lexer": "ipython3",
   "version": "3.8.10"
  }
 },
 "nbformat": 4,
 "nbformat_minor": 5
}
