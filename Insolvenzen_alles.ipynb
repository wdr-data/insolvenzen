{
 "cells": [
  {
   "cell_type": "code",
   "execution_count": 1,
   "id": "4cbd44b4",
   "metadata": {},
   "outputs": [],
   "source": [
    "import pandas as pd\n",
    "import calmap\n",
    "import numpy as np\n",
    "import os"
   ]
  },
  {
   "cell_type": "code",
   "execution_count": 2,
   "id": "7568223f",
   "metadata": {},
   "outputs": [],
   "source": [
    "from pathlib import Path\n",
    "from os import environ, write\n",
    "\n",
    "import re\n",
    "from datetime import datetime, time\n",
    "import datetime as dt\n",
    "from collections import defaultdict\n",
    "\n",
    "import requests"
   ]
  },
  {
   "cell_type": "code",
   "execution_count": 42,
   "id": "743c870a",
   "metadata": {},
   "outputs": [],
   "source": [
    "def load_data():\n",
    "    if environ.get(\"USE_LOCAL_FILES\"):\n",
    "        paths = Path(\"extracted\").rglob(\"*.csv\")\n",
    "        df_parts = []\n",
    "\n",
    "        for path in sorted(paths):\n",
    "\n",
    "            print(\"Reading for analysis:\", path)\n",
    "\n",
    "            with open(path, \"r\", encoding=\"utf-8\") as fp:\n",
    "                df_part = pd.read_csv(fp, delimiter=\",\", dtype=str)\n",
    "                df_parts.append(df_part)\n",
    "\n",
    "            # if df is None:\n",
    "            #     df = df_part\n",
    "            # else:\n",
    "            #     df = df.append(df_part, ignore_index=True)\n",
    "\n",
    "        df = pd.concat(df_parts, ignore_index=True)\n",
    "\n",
    "    else:\n",
    "        raise NotImplementedError(\"Remote data not yet implemented\")\n",
    "    \n",
    "    df['date_of_birth'] = pd.to_datetime(df['date_of_birth'], errors = 'coerce')\n",
    "    df['date_of_proceeding'] = pd.to_datetime(df['date_of_proceeding'], errors = 'coerce')\n",
    "    df['date_of_publication'] = pd.to_datetime(df['date_of_publication'], errors = 'coerce')\n",
    "\n",
    "    return df"
   ]
  },
  {
   "cell_type": "code",
   "execution_count": 43,
   "id": "007cfd6c",
   "metadata": {},
   "outputs": [
    {
     "name": "stdout",
     "output_type": "stream",
     "text": [
      "Reading for analysis: extracted/buckets/insolvenzenard/insolvenzbekanntmachungen-scraper/2021-01-17T08-05-41.jsonl.csv\n",
      "Reading for analysis: extracted/buckets/insolvenzenard/insolvenzbekanntmachungen-scraper/2021-01-24T08-05-43.jsonl.csv\n",
      "Reading for analysis: extracted/buckets/insolvenzenard/insolvenzbekanntmachungen-scraper/2021-01-31T03-50-40.jsonl.csv\n",
      "Reading for analysis: extracted/buckets/insolvenzenard/insolvenzbekanntmachungen-scraper/2021-02-07T03-47-56.jsonl.csv\n",
      "Reading for analysis: extracted/buckets/insolvenzenard/insolvenzbekanntmachungen-scraper/2021-02-14T03-54-29.jsonl.csv\n",
      "Reading for analysis: extracted/buckets/insolvenzenard/insolvenzbekanntmachungen-scraper/2021-02-21T04-08-08.jsonl.csv\n",
      "Reading for analysis: extracted/buckets/insolvenzenard/insolvenzbekanntmachungen-scraper/2021-02-28T04-20-16.jsonl.csv\n",
      "Reading for analysis: extracted/buckets/insolvenzenard/insolvenzbekanntmachungen-scraper/2021-03-07T07-20-48.jsonl.csv\n",
      "Reading for analysis: extracted/buckets/insolvenzenard/insolvenzbekanntmachungen-scraper/2021-03-14T04-06-39.jsonl.csv\n",
      "Reading for analysis: extracted/buckets/insolvenzenard/insolvenzbekanntmachungen-scraper/2021-03-21T03-54-45.jsonl.csv\n",
      "Reading for analysis: extracted/buckets/insolvenzenard/insolvenzbekanntmachungen-scraper/2021-03-28T03-04-19.jsonl.csv\n",
      "Reading for analysis: extracted/buckets/insolvenzenard/insolvenzbekanntmachungen-scraper/2021-04-04T03-42-28.jsonl.csv\n",
      "Reading for analysis: extracted/buckets/insolvenzenard/insolvenzbekanntmachungen-scraper/2021-04-11T03-03-13.jsonl.csv\n",
      "Reading for analysis: extracted/buckets/insolvenzenard/insolvenzbekanntmachungen-scraper/2021-04-18T03-22-49.jsonl.csv\n",
      "Reading for analysis: extracted/buckets/insolvenzenard/insolvenzbekanntmachungen-scraper/2021-04-25T03-13-53.jsonl.csv\n",
      "Reading for analysis: extracted/buckets/insolvenzenard/insolvenzbekanntmachungen-scraper/2021-05-02T03-20-17.jsonl.csv\n",
      "Reading for analysis: extracted/buckets/insolvenzenard/insolvenzbekanntmachungen-scraper/2021-05-09T03-12-25.jsonl.csv\n",
      "Reading for analysis: extracted/buckets/insolvenzenard/insolvenzbekanntmachungen-scraper/2021-05-16T03-35-16.jsonl.csv\n",
      "Reading for analysis: extracted/buckets/insolvenzenard/insolvenzbekanntmachungen-scraper/2021-05-23T03-59-24.jsonl.csv\n",
      "Reading for analysis: extracted/buckets/insolvenzenard/insolvenzbekanntmachungen-scraper/2021-05-30T03-32-32.jsonl.csv\n",
      "Reading for analysis: extracted/buckets/insolvenzenard/insolvenzbekanntmachungen-scraper/2021-06-06T03-29-30.jsonl.csv\n",
      "Reading for analysis: extracted/buckets/insolvenzenard/insolvenzbekanntmachungen-scraper/2021-06-13T03-09-15.jsonl.csv\n",
      "Reading for analysis: extracted/buckets/insolvenzenard/insolvenzbekanntmachungen-scraper/2021-06-20T03-27-28.jsonl.csv\n",
      "Reading for analysis: extracted/buckets/insolvenzenard/insolvenzbekanntmachungen-scraper/2021-06-27T03-21-00.jsonl.csv\n",
      "Reading for analysis: extracted/buckets/insolvenzenard/insolvenzbekanntmachungen-scraper/2021-08-09T11-47-39.jsonl.csv\n",
      "Reading for analysis: extracted/buckets/insolvenzenard/insolvenzbekanntmachungen-scraper/2021-08-11T14-54-35.jsonl.csv\n",
      "Reading for analysis: extracted/buckets/insolvenzenard/insolvenzbekanntmachungen-scraper/2021-08-19T10-31-16.jsonl.csv\n",
      "Reading for analysis: extracted/buckets/insolvenzenard/insolvenzbekanntmachungen-scraper/2021-08-19T12-16-19.jsonl.csv\n",
      "Reading for analysis: extracted/buckets/insolvenzenard/insolvenzbekanntmachungen-scraper/2021-08-22T03-47-42.jsonl.csv\n",
      "Reading for analysis: extracted/buckets/insolvenzenard/insolvenzbekanntmachungen-scraper/2021-08-29T03-32-45.jsonl.csv\n",
      "Reading for analysis: extracted/buckets/insolvenzenard/insolvenzbekanntmachungen-scraper/2021-09-05T04-13-47.jsonl.csv\n",
      "Reading for analysis: extracted/buckets/insolvenzenard/insolvenzbekanntmachungen-scraper/2021-09-12T03-41-20.jsonl.csv\n",
      "Reading for analysis: extracted/buckets/insolvenzenard/insolvenzbekanntmachungen-scraper/2021-09-13 T2019-02-28.jsonl.csv\n",
      "Reading for analysis: extracted/buckets/insolvenzenard/insolvenzbekanntmachungen-scraper/2021-09-13T2019-01-31.jsonl.csv\n",
      "Reading for analysis: extracted/buckets/insolvenzenard/insolvenzbekanntmachungen-scraper/2021-09-14T2019-03-31.jsonl.csv\n",
      "Reading for analysis: extracted/buckets/insolvenzenard/insolvenzbekanntmachungen-scraper/2021-09-14T2019-04-30.jsonl.csv\n",
      "Reading for analysis: extracted/buckets/insolvenzenard/insolvenzbekanntmachungen-scraper/2021-09-14T2019-05-31.jsonl.csv\n",
      "Reading for analysis: extracted/buckets/insolvenzenard/insolvenzbekanntmachungen-scraper/2021-09-20-13-13-48.jsonl.csv\n",
      "Reading for analysis: extracted/buckets/insolvenzenard/insolvenzbekanntmachungen-scraper/2021-09-20-19-44-11.jsonl.csv\n",
      "Reading for analysis: extracted/buckets/insolvenzenard/insolvenzbekanntmachungen-scraper/2021-09-21-01-12-41.jsonl.csv\n",
      "Reading for analysis: extracted/buckets/insolvenzenard/insolvenzbekanntmachungen-scraper/2021-09-21-13-36-54.jsonl.csv\n",
      "Reading for analysis: extracted/buckets/insolvenzenard/insolvenzbekanntmachungen-scraper/2021-09-21-14-58-19.jsonl.csv\n",
      "Reading for analysis: extracted/buckets/insolvenzenard/insolvenzbekanntmachungen-scraper/2021-09-21-22-40-28.jsonl.csv\n",
      "Reading for analysis: extracted/buckets/insolvenzenard/insolvenzbekanntmachungen-scraper/2021-09-21T14-58-33.jsonl.csv\n",
      "Reading for analysis: extracted/buckets/insolvenzenard/insolvenzbekanntmachungen-scraper/2021-09-26T03-45-50.jsonl.csv\n",
      "Reading for analysis: extracted/buckets/insolvenzenard/insolvenzbekanntmachungen-scraper/2021-10-03T03-28-36.jsonl.csv\n",
      "Reading for analysis: extracted/buckets/insolvenzenard/insolvenzbekanntmachungen-scraper/2021-10-10T03-17-54.jsonl.csv\n",
      "Reading for analysis: extracted/buckets/insolvenzenard/insolvenzbekanntmachungen-scraper/2021-10-12T12-07-45.jsonl.csv\n",
      "Reading for analysis: extracted/buckets/insolvenzenard/insolvenzbekanntmachungen-scraper/2021-10-12T15-34-59.jsonl.csv\n",
      "Reading for analysis: extracted/buckets/insolvenzenard/insolvenzbekanntmachungen-scraper/2021-10-12T18-48-54.jsonl.csv\n",
      "Reading for analysis: extracted/buckets/insolvenzenard/insolvenzbekanntmachungen-scraper/2021-10-12T22-33-18.jsonl.csv\n",
      "Reading for analysis: extracted/buckets/insolvenzenard/insolvenzbekanntmachungen-scraper/2021-10-13T06-55-10.jsonl.csv\n",
      "Reading for analysis: extracted/buckets/insolvenzenard/insolvenzbekanntmachungen-scraper/2021-10-13T10-24-32.jsonl.csv\n",
      "Reading for analysis: extracted/buckets/insolvenzenard/insolvenzbekanntmachungen-scraper/2021-10-13T14-18-38.jsonl.csv\n",
      "Reading for analysis: extracted/buckets/insolvenzenard/insolvenzbekanntmachungen-scraper/2021-10-13T18-03-26.jsonl.csv\n",
      "Reading for analysis: extracted/buckets/insolvenzenard/insolvenzbekanntmachungen-scraper/2021-10-13T21-43-31.jsonl.csv\n",
      "Reading for analysis: extracted/buckets/insolvenzenard/insolvenzbekanntmachungen-scraper/2021-10-14T06-19-44.jsonl.csv\n",
      "Reading for analysis: extracted/buckets/insolvenzenard/insolvenzbekanntmachungen-scraper/2021-10-14T10-06-41.jsonl.csv\n",
      "Reading for analysis: extracted/buckets/insolvenzenard/insolvenzbekanntmachungen-scraper/2021-10-14T13-51-45.jsonl.csv\n",
      "Reading for analysis: extracted/buckets/insolvenzenard/insolvenzbekanntmachungen-scraper/2021-10-14T18-00-08.jsonl.csv\n",
      "Reading for analysis: extracted/buckets/insolvenzenard/insolvenzbekanntmachungen-scraper/2021-10-14T21-55-23.jsonl.csv\n",
      "Reading for analysis: extracted/buckets/insolvenzenard/insolvenzbekanntmachungen-scraper/2021-10-15T07-15-07.jsonl.csv\n",
      "Reading for analysis: extracted/buckets/insolvenzenard/insolvenzbekanntmachungen-scraper/2021-10-15T11-11-04.jsonl.csv\n",
      "Reading for analysis: extracted/buckets/insolvenzenard/insolvenzbekanntmachungen-scraper/2021-10-15T15-20-38.jsonl.csv\n",
      "Reading for analysis: extracted/buckets/insolvenzenard/insolvenzbekanntmachungen-scraper/2021-10-15T19-30-57.jsonl.csv\n",
      "Reading for analysis: extracted/buckets/insolvenzenard/insolvenzbekanntmachungen-scraper/2021-10-16T04-46-45.jsonl.csv\n",
      "Reading for analysis: extracted/buckets/insolvenzenard/insolvenzbekanntmachungen-scraper/2021-10-16T08-37-30.jsonl.csv\n",
      "Reading for analysis: extracted/buckets/insolvenzenard/insolvenzbekanntmachungen-scraper/2021-10-16T12-23-44.jsonl.csv\n",
      "Reading for analysis: extracted/buckets/insolvenzenard/insolvenzbekanntmachungen-scraper/2021-10-16T16-32-55.jsonl.csv\n",
      "Reading for analysis: extracted/buckets/insolvenzenard/insolvenzbekanntmachungen-scraper/2021-10-16T20-42-50.jsonl.csv\n",
      "Reading for analysis: extracted/buckets/insolvenzenard/insolvenzbekanntmachungen-scraper/2021-10-17T05-51-55.jsonl.csv\n",
      "Reading for analysis: extracted/buckets/insolvenzenard/insolvenzbekanntmachungen-scraper/2021-10-17T10-40-49.jsonl.csv\n"
     ]
    },
    {
     "name": "stdout",
     "output_type": "stream",
     "text": [
      "Reading for analysis: extracted/buckets/insolvenzenard/insolvenzbekanntmachungen-scraper/2021-10-20T00-26-46.jsonl.csv\n",
      "Reading for analysis: extracted/buckets/insolvenzenard/insolvenzbekanntmachungen-scraper/2021-10-20T07-31-07.jsonl.csv\n",
      "Reading for analysis: extracted/buckets/insolvenzenard/insolvenzbekanntmachungen-scraper/2021-10-20T13-43-00.jsonl.csv\n",
      "Reading for analysis: extracted/buckets/insolvenzenard/insolvenzbekanntmachungen-scraper/2021-10-20T20-17-09.jsonl.csv\n",
      "Reading for analysis: extracted/buckets/insolvenzenard/insolvenzbekanntmachungen-scraper/2021-10-21T06-38-42.jsonl.csv\n",
      "Reading for analysis: extracted/buckets/insolvenzenard/insolvenzbekanntmachungen-scraper/2021-10-21T13-46-12.jsonl.csv\n",
      "Reading for analysis: extracted/buckets/insolvenzenard/insolvenzbekanntmachungen-scraper/2021-10-21T19-37-11.jsonl.csv\n",
      "Reading for analysis: extracted/buckets/insolvenzenard/insolvenzbekanntmachungen-scraper/2021-10-22T07-02-46.jsonl.csv\n",
      "Reading for analysis: extracted/buckets/insolvenzenard/insolvenzbekanntmachungen-scraper/2021-10-22T07-27-28.jsonl.csv\n",
      "Reading for analysis: extracted/buckets/insolvenzenard/insolvenzbekanntmachungen-scraper/2021-10-22T11-01-10.jsonl.csv\n",
      "Reading for analysis: extracted/buckets/insolvenzenard/insolvenzbekanntmachungen-scraper/2021-10-24T03-10-22.jsonl.csv\n",
      "Reading for analysis: extracted/buckets/insolvenzenard/insolvenzbekanntmachungen-scraper/2021-10-31T03-23-53.jsonl.csv\n",
      "Reading for analysis: extracted/buckets/insolvenzenard/insolvenzbekanntmachungen-scraper/2021-11-07T03-44-20.jsonl.csv\n"
     ]
    }
   ],
   "source": [
    "df = load_data()"
   ]
  },
  {
   "cell_type": "code",
   "execution_count": 44,
   "id": "6899cf90",
   "metadata": {},
   "outputs": [],
   "source": [
    "df.drop_duplicates(subset =\"description_hash\", keep = \"last\", inplace = True)"
   ]
  },
  {
   "cell_type": "code",
   "execution_count": 45,
   "id": "54e7deca",
   "metadata": {},
   "outputs": [
    {
     "name": "stdout",
     "output_type": "stream",
     "text": [
      "<class 'pandas.core.frame.DataFrame'>\n",
      "Int64Index: 852091 entries, 159 to 1844472\n",
      "Data columns (total 18 columns):\n",
      " #   Column               Non-Null Count   Dtype         \n",
      "---  ------               --------------   -----         \n",
      " 0   _key                 34818 non-null   object        \n",
      " 1   case_nr              852091 non-null  object        \n",
      " 2   court                852091 non-null  object        \n",
      " 3   date_of_birth        610830 non-null  datetime64[ns]\n",
      " 4   date_of_proceeding   754557 non-null  datetime64[ns]\n",
      " 5   date_of_publication  852091 non-null  datetime64[ns]\n",
      " 6   description_hash     852091 non-null  object        \n",
      " 7   federal_state        852091 non-null  object        \n",
      " 8   file_name            430671 non-null  object        \n",
      " 9   kind                 851544 non-null  object        \n",
      " 10  title                430671 non-null  object        \n",
      " 11  type_of_proceeding   852091 non-null  object        \n",
      " 12  zipcode              847993 non-null  object        \n",
      " 13  detail_form_name     421420 non-null  object        \n",
      " 14  format               421420 non-null  object        \n",
      " 15  name                 421420 non-null  object        \n",
      " 16  register             64466 non-null   object        \n",
      " 17  request_fingerprint  421420 non-null  object        \n",
      "dtypes: datetime64[ns](3), object(15)\n",
      "memory usage: 123.5+ MB\n"
     ]
    }
   ],
   "source": [
    "df.info()"
   ]
  },
  {
   "cell_type": "markdown",
   "id": "38f3b15e",
   "metadata": {},
   "source": [
    "# Bundesweit"
   ]
  },
  {
   "cell_type": "markdown",
   "id": "a24cdf58",
   "metadata": {},
   "source": [
    "### Filtern nach Insolvenzart"
   ]
  },
  {
   "cell_type": "code",
   "execution_count": 6,
   "id": "15614c9c",
   "metadata": {},
   "outputs": [],
   "source": [
    "df1 = df.replace(to_replace = [\"nw\"],\n",
    "                   value =\"Nordrhein-Westfalen\")"
   ]
  },
  {
   "cell_type": "code",
   "execution_count": 7,
   "id": "7a525cfe",
   "metadata": {},
   "outputs": [],
   "source": [
    "df2 = df1.replace(to_replace = [\"bb\"],\n",
    "                   value =\"Brandenburg\")"
   ]
  },
  {
   "cell_type": "code",
   "execution_count": 8,
   "id": "02b99c7f",
   "metadata": {},
   "outputs": [],
   "source": [
    "df3 = df2.replace(to_replace = [\"sh\"],\n",
    "                   value =\"Schleswig-Holstein\")"
   ]
  },
  {
   "cell_type": "code",
   "execution_count": 9,
   "id": "1ed70f0b",
   "metadata": {},
   "outputs": [],
   "source": [
    "df4 = df3.replace(to_replace = [\"ns\"],\n",
    "                   value =\"Niedersachsen\")"
   ]
  },
  {
   "cell_type": "code",
   "execution_count": 10,
   "id": "e9308f3d",
   "metadata": {},
   "outputs": [],
   "source": [
    "df5 = df4.replace(to_replace = [\"by\"],\n",
    "                   value =\"Bayern\")"
   ]
  },
  {
   "cell_type": "code",
   "execution_count": 11,
   "id": "273d8b0f",
   "metadata": {},
   "outputs": [],
   "source": [
    "df6 = df5.replace(to_replace = [\"rp\"],\n",
    "                   value =\"Rheinland-Pfalz\")"
   ]
  },
  {
   "cell_type": "code",
   "execution_count": 12,
   "id": "980ce97d",
   "metadata": {},
   "outputs": [],
   "source": [
    "df7 = df6.replace(to_replace = [\"sn\"],\n",
    "                   value =\"Sachsen\")"
   ]
  },
  {
   "cell_type": "code",
   "execution_count": 13,
   "id": "ddf7d0f7",
   "metadata": {},
   "outputs": [],
   "source": [
    "df8 = df7.replace(to_replace = [\"bw\"],\n",
    "                   value =\"Baden-Württemberg\")"
   ]
  },
  {
   "cell_type": "code",
   "execution_count": 14,
   "id": "97f617dc",
   "metadata": {},
   "outputs": [],
   "source": [
    "df9 = df8.replace(to_replace = [\"be\"],\n",
    "                   value =\"Berlin\")"
   ]
  },
  {
   "cell_type": "code",
   "execution_count": 15,
   "id": "3c2363ea",
   "metadata": {},
   "outputs": [],
   "source": [
    "df10 = df9.replace(to_replace = [\"st\"],\n",
    "                   value =\"Brandenburg\")"
   ]
  },
  {
   "cell_type": "code",
   "execution_count": 16,
   "id": "091a3ced",
   "metadata": {},
   "outputs": [],
   "source": [
    "df11 = df10.replace(to_replace = [\"he\"],\n",
    "                   value =\"Hessen\")"
   ]
  },
  {
   "cell_type": "code",
   "execution_count": 17,
   "id": "c0286ce2",
   "metadata": {},
   "outputs": [],
   "source": [
    "df12 = df11.replace(to_replace = [\"hh\"],\n",
    "                   value =\"Hamburg\")"
   ]
  },
  {
   "cell_type": "code",
   "execution_count": 18,
   "id": "4372c480",
   "metadata": {},
   "outputs": [],
   "source": [
    "df13 = df12.replace(to_replace = [\"sl\"],\n",
    "                   value =\"Saarland\")"
   ]
  },
  {
   "cell_type": "code",
   "execution_count": 19,
   "id": "0b47f8a5",
   "metadata": {},
   "outputs": [],
   "source": [
    "df14 = df13.replace(to_replace = [\"hb\"],\n",
    "                   value =\"Bremen\")"
   ]
  },
  {
   "cell_type": "code",
   "execution_count": 20,
   "id": "5f562a00",
   "metadata": {},
   "outputs": [],
   "source": [
    "df15 = df14.replace(to_replace = [\"th\"],\n",
    "                   value =\"Thüringen\")"
   ]
  },
  {
   "cell_type": "code",
   "execution_count": 21,
   "id": "ba7b4ab2",
   "metadata": {},
   "outputs": [],
   "source": [
    "df16 = df15.replace(to_replace = [\"mv\"],\n",
    "                   value =\"Mecklenburg-Vorpommern\")"
   ]
  },
  {
   "cell_type": "code",
   "execution_count": 33,
   "id": "15824017",
   "metadata": {},
   "outputs": [],
   "source": [
    "series = pd.Series(df16.zipcode.unique())"
   ]
  },
  {
   "cell_type": "code",
   "execution_count": 47,
   "id": "426e484c",
   "metadata": {},
   "outputs": [
    {
     "data": {
      "text/plain": [
       "dtype('O')"
      ]
     },
     "execution_count": 47,
     "metadata": {},
     "output_type": "execute_result"
    }
   ],
   "source": [
    "series.dtypes"
   ]
  },
  {
   "cell_type": "code",
   "execution_count": 112,
   "id": "674850f0",
   "metadata": {},
   "outputs": [],
   "source": [
    "# IN = Regelinsolvenz\n",
    "\n",
    "def in_kind(df16):\n",
    "    in_unternehmen = (df16[df16['kind'] == 'in'])\n",
    "    return in_unternehmen\n",
    "\n",
    "# Funktion def wird ausgeführt\n",
    "data_in = in_kind(df16)"
   ]
  },
  {
   "cell_type": "code",
   "execution_count": 113,
   "id": "364b8c25",
   "metadata": {},
   "outputs": [],
   "source": [
    "def in_eröffnung(data_in):\n",
    "    in_eröffnet = data_in[data_in['type_of_proceeding'].isin(['Eröffnungen', 'Eroeffnung', 'Eroeffnung_Insolvenzverfahren', 'Eroeffnungen'])]\n",
    "    return in_eröffnet\n",
    "\n",
    "# Funktion def wird ausgeführt\n",
    "data_eröffnet_in = in_eröffnung(data_in)"
   ]
  },
  {
   "cell_type": "code",
   "execution_count": 114,
   "id": "97e71e08",
   "metadata": {},
   "outputs": [],
   "source": [
    "data_nw_ik = data_eröffnet_in[data_eröffnet_in[\"federal_state\"].isin(['Nordrhein-Westfalen'])]\n"
   ]
  },
  {
   "cell_type": "code",
   "execution_count": 115,
   "id": "05469aa0",
   "metadata": {},
   "outputs": [],
   "source": [
    "date_range_nw_ik = data_nw_ik[data_nw_ik.date_of_publication.between('2021-10-07', '2021-11-07')]"
   ]
  },
  {
   "cell_type": "code",
   "execution_count": 84,
   "id": "2362e97b",
   "metadata": {
    "scrolled": true
   },
   "outputs": [
    {
     "data": {
      "text/html": [
       "<div>\n",
       "<style scoped>\n",
       "    .dataframe tbody tr th:only-of-type {\n",
       "        vertical-align: middle;\n",
       "    }\n",
       "\n",
       "    .dataframe tbody tr th {\n",
       "        vertical-align: top;\n",
       "    }\n",
       "\n",
       "    .dataframe thead th {\n",
       "        text-align: right;\n",
       "    }\n",
       "</style>\n",
       "<table border=\"1\" class=\"dataframe\">\n",
       "  <thead>\n",
       "    <tr style=\"text-align: right;\">\n",
       "      <th></th>\n",
       "      <th>_key</th>\n",
       "      <th>case_nr</th>\n",
       "      <th>court</th>\n",
       "      <th>date_of_birth</th>\n",
       "      <th>date_of_proceeding</th>\n",
       "      <th>date_of_publication</th>\n",
       "      <th>description_hash</th>\n",
       "      <th>federal_state</th>\n",
       "      <th>file_name</th>\n",
       "      <th>kind</th>\n",
       "      <th>title</th>\n",
       "      <th>type_of_proceeding</th>\n",
       "      <th>zipcode</th>\n",
       "      <th>detail_form_name</th>\n",
       "      <th>format</th>\n",
       "      <th>name</th>\n",
       "      <th>register</th>\n",
       "      <th>request_fingerprint</th>\n",
       "    </tr>\n",
       "  </thead>\n",
       "  <tbody>\n",
       "    <tr>\n",
       "      <th>1607891</th>\n",
       "      <td>NaN</td>\n",
       "      <td>145 IN 426/21</td>\n",
       "      <td>Wuppertal</td>\n",
       "      <td>1950-10-22</td>\n",
       "      <td>2021-10-05</td>\n",
       "      <td>2021-10-07</td>\n",
       "      <td>8de4d43a44ad47de7423662557dbcb14b41ac63e8db7f0...</td>\n",
       "      <td>Nordrhein-Westfalen</td>\n",
       "      <td>NaN</td>\n",
       "      <td>in</td>\n",
       "      <td>NaN</td>\n",
       "      <td>Eröffnungen</td>\n",
       "      <td>42281</td>\n",
       "      <td>tbl_ergebnis:12:frm_detail</td>\n",
       "      <td>neu</td>\n",
       "      <td>Denz, Hans-Albert</td>\n",
       "      <td>NaN</td>\n",
       "      <td>3c0654cd788642fa18457dc8258bb759f173cc88a081ea...</td>\n",
       "    </tr>\n",
       "    <tr>\n",
       "      <th>1608139</th>\n",
       "      <td>NaN</td>\n",
       "      <td>80 IN 453/21</td>\n",
       "      <td>Bochum</td>\n",
       "      <td>NaT</td>\n",
       "      <td>2021-10-05</td>\n",
       "      <td>2021-10-07</td>\n",
       "      <td>a9cbece12d176566010efe9b428bdcf9a1521201915ede...</td>\n",
       "      <td>Nordrhein-Westfalen</td>\n",
       "      <td>NaN</td>\n",
       "      <td>in</td>\n",
       "      <td>NaN</td>\n",
       "      <td>Eröffnungen</td>\n",
       "      <td>45657</td>\n",
       "      <td>tbl_ergebnis:80:frm_detail</td>\n",
       "      <td>neu</td>\n",
       "      <td>YourPlane AG</td>\n",
       "      <td>Recklinghausen, HRB 533</td>\n",
       "      <td>a5556a24b30ca4cfea91aed0ce6c56ffd58b04e9711e80...</td>\n",
       "    </tr>\n",
       "    <tr>\n",
       "      <th>1608142</th>\n",
       "      <td>NaN</td>\n",
       "      <td>70k IN 233/20</td>\n",
       "      <td>Köln</td>\n",
       "      <td>NaT</td>\n",
       "      <td>2021-10-01</td>\n",
       "      <td>2021-10-07</td>\n",
       "      <td>296305dcfb8c83eddc49878f1ea489e7ac2a7bfe3d6e19...</td>\n",
       "      <td>Nordrhein-Westfalen</td>\n",
       "      <td>NaN</td>\n",
       "      <td>in</td>\n",
       "      <td>NaN</td>\n",
       "      <td>Eröffnungen</td>\n",
       "      <td>50676</td>\n",
       "      <td>tbl_ergebnis:77:frm_detail</td>\n",
       "      <td>neu</td>\n",
       "      <td>Xclusivhair UG (haftungsbeschränkt)</td>\n",
       "      <td>Köln, HRB 88008</td>\n",
       "      <td>bbcd5b7842a86046274123e9d19960f9b213f7f7663661...</td>\n",
       "    </tr>\n",
       "    <tr>\n",
       "      <th>1608144</th>\n",
       "      <td>NaN</td>\n",
       "      <td>43 IN 450/21</td>\n",
       "      <td>Bielefeld</td>\n",
       "      <td>NaT</td>\n",
       "      <td>2021-10-05</td>\n",
       "      <td>2021-10-07</td>\n",
       "      <td>b614c8e60fab2603a6dbbf02fd0e967c847be79ac545a8...</td>\n",
       "      <td>Nordrhein-Westfalen</td>\n",
       "      <td>NaN</td>\n",
       "      <td>in</td>\n",
       "      <td>NaN</td>\n",
       "      <td>Eröffnungen</td>\n",
       "      <td>32584</td>\n",
       "      <td>tbl_ergebnis:76:frm_detail</td>\n",
       "      <td>neu</td>\n",
       "      <td>WTL Werkzeugtechnik GmbH</td>\n",
       "      <td>Bad Oeynhausen, HRB 3049</td>\n",
       "      <td>378bab9b0cb207af34658c716d82b0a4b9501a0471fc74...</td>\n",
       "    </tr>\n",
       "    <tr>\n",
       "      <th>1608158</th>\n",
       "      <td>NaN</td>\n",
       "      <td>503 IN 109/20</td>\n",
       "      <td>Düsseldorf</td>\n",
       "      <td>NaT</td>\n",
       "      <td>2021-10-05</td>\n",
       "      <td>2021-10-07</td>\n",
       "      <td>fc37b17084bcac6482875de5f5d43bcfbf25ea301d8cf5...</td>\n",
       "      <td>Nordrhein-Westfalen</td>\n",
       "      <td>NaN</td>\n",
       "      <td>in</td>\n",
       "      <td>NaN</td>\n",
       "      <td>Eröffnungen</td>\n",
       "      <td>90172</td>\n",
       "      <td>tbl_ergebnis:67:frm_detail</td>\n",
       "      <td>neu</td>\n",
       "      <td>Travel to Fairs GmbH</td>\n",
       "      <td>Düsseldorf, HRB 90172</td>\n",
       "      <td>592d6a354d6cde2da30a4bc6a02bd1dc7728483355cc61...</td>\n",
       "    </tr>\n",
       "  </tbody>\n",
       "</table>\n",
       "</div>"
      ],
      "text/plain": [
       "        _key        case_nr       court date_of_birth date_of_proceeding  \\\n",
       "1607891  NaN  145 IN 426/21   Wuppertal    1950-10-22         2021-10-05   \n",
       "1608139  NaN   80 IN 453/21      Bochum           NaT         2021-10-05   \n",
       "1608142  NaN  70k IN 233/20        Köln           NaT         2021-10-01   \n",
       "1608144  NaN   43 IN 450/21   Bielefeld           NaT         2021-10-05   \n",
       "1608158  NaN  503 IN 109/20  Düsseldorf           NaT         2021-10-05   \n",
       "\n",
       "        date_of_publication  \\\n",
       "1607891          2021-10-07   \n",
       "1608139          2021-10-07   \n",
       "1608142          2021-10-07   \n",
       "1608144          2021-10-07   \n",
       "1608158          2021-10-07   \n",
       "\n",
       "                                          description_hash  \\\n",
       "1607891  8de4d43a44ad47de7423662557dbcb14b41ac63e8db7f0...   \n",
       "1608139  a9cbece12d176566010efe9b428bdcf9a1521201915ede...   \n",
       "1608142  296305dcfb8c83eddc49878f1ea489e7ac2a7bfe3d6e19...   \n",
       "1608144  b614c8e60fab2603a6dbbf02fd0e967c847be79ac545a8...   \n",
       "1608158  fc37b17084bcac6482875de5f5d43bcfbf25ea301d8cf5...   \n",
       "\n",
       "               federal_state file_name kind title type_of_proceeding zipcode  \\\n",
       "1607891  Nordrhein-Westfalen       NaN   in   NaN        Eröffnungen   42281   \n",
       "1608139  Nordrhein-Westfalen       NaN   in   NaN        Eröffnungen   45657   \n",
       "1608142  Nordrhein-Westfalen       NaN   in   NaN        Eröffnungen   50676   \n",
       "1608144  Nordrhein-Westfalen       NaN   in   NaN        Eröffnungen   32584   \n",
       "1608158  Nordrhein-Westfalen       NaN   in   NaN        Eröffnungen   90172   \n",
       "\n",
       "                   detail_form_name format  \\\n",
       "1607891  tbl_ergebnis:12:frm_detail    neu   \n",
       "1608139  tbl_ergebnis:80:frm_detail    neu   \n",
       "1608142  tbl_ergebnis:77:frm_detail    neu   \n",
       "1608144  tbl_ergebnis:76:frm_detail    neu   \n",
       "1608158  tbl_ergebnis:67:frm_detail    neu   \n",
       "\n",
       "                                        name                  register  \\\n",
       "1607891                    Denz, Hans-Albert                       NaN   \n",
       "1608139                         YourPlane AG   Recklinghausen, HRB 533   \n",
       "1608142  Xclusivhair UG (haftungsbeschränkt)           Köln, HRB 88008   \n",
       "1608144             WTL Werkzeugtechnik GmbH  Bad Oeynhausen, HRB 3049   \n",
       "1608158                 Travel to Fairs GmbH     Düsseldorf, HRB 90172   \n",
       "\n",
       "                                       request_fingerprint  \n",
       "1607891  3c0654cd788642fa18457dc8258bb759f173cc88a081ea...  \n",
       "1608139  a5556a24b30ca4cfea91aed0ce6c56ffd58b04e9711e80...  \n",
       "1608142  bbcd5b7842a86046274123e9d19960f9b213f7f7663661...  \n",
       "1608144  378bab9b0cb207af34658c716d82b0a4b9501a0471fc74...  \n",
       "1608158  592d6a354d6cde2da30a4bc6a02bd1dc7728483355cc61...  "
      ]
     },
     "execution_count": 84,
     "metadata": {},
     "output_type": "execute_result"
    }
   ],
   "source": [
    "date_range_nw_ik.head()"
   ]
  },
  {
   "cell_type": "code",
   "execution_count": 116,
   "id": "fc55bfb7",
   "metadata": {},
   "outputs": [
    {
     "data": {
      "text/html": [
       "<div>\n",
       "<style scoped>\n",
       "    .dataframe tbody tr th:only-of-type {\n",
       "        vertical-align: middle;\n",
       "    }\n",
       "\n",
       "    .dataframe tbody tr th {\n",
       "        vertical-align: top;\n",
       "    }\n",
       "\n",
       "    .dataframe thead th {\n",
       "        text-align: right;\n",
       "    }\n",
       "</style>\n",
       "<table border=\"1\" class=\"dataframe\">\n",
       "  <thead>\n",
       "    <tr style=\"text-align: right;\">\n",
       "      <th></th>\n",
       "      <th>zipcode</th>\n",
       "      <th>_key</th>\n",
       "      <th>case_nr</th>\n",
       "      <th>court</th>\n",
       "      <th>date_of_birth</th>\n",
       "      <th>date_of_proceeding</th>\n",
       "      <th>date_of_publication</th>\n",
       "      <th>description_hash</th>\n",
       "      <th>federal_state</th>\n",
       "      <th>file_name</th>\n",
       "      <th>kind</th>\n",
       "      <th>title</th>\n",
       "      <th>type_of_proceeding</th>\n",
       "      <th>detail_form_name</th>\n",
       "      <th>format</th>\n",
       "      <th>name</th>\n",
       "      <th>register</th>\n",
       "      <th>request_fingerprint</th>\n",
       "    </tr>\n",
       "  </thead>\n",
       "  <tbody>\n",
       "    <tr>\n",
       "      <th>114</th>\n",
       "      <td>42651</td>\n",
       "      <td>0</td>\n",
       "      <td>1</td>\n",
       "      <td>1</td>\n",
       "      <td>1</td>\n",
       "      <td>1</td>\n",
       "      <td>1</td>\n",
       "      <td>1</td>\n",
       "      <td>1</td>\n",
       "      <td>0</td>\n",
       "      <td>1</td>\n",
       "      <td>0</td>\n",
       "      <td>1</td>\n",
       "      <td>1</td>\n",
       "      <td>1</td>\n",
       "      <td>1</td>\n",
       "      <td>0</td>\n",
       "      <td>1</td>\n",
       "    </tr>\n",
       "    <tr>\n",
       "      <th>143</th>\n",
       "      <td>45127</td>\n",
       "      <td>0</td>\n",
       "      <td>1</td>\n",
       "      <td>1</td>\n",
       "      <td>1</td>\n",
       "      <td>1</td>\n",
       "      <td>1</td>\n",
       "      <td>1</td>\n",
       "      <td>1</td>\n",
       "      <td>0</td>\n",
       "      <td>1</td>\n",
       "      <td>0</td>\n",
       "      <td>1</td>\n",
       "      <td>1</td>\n",
       "      <td>1</td>\n",
       "      <td>1</td>\n",
       "      <td>0</td>\n",
       "      <td>1</td>\n",
       "    </tr>\n",
       "    <tr>\n",
       "      <th>271</th>\n",
       "      <td>52511</td>\n",
       "      <td>0</td>\n",
       "      <td>1</td>\n",
       "      <td>1</td>\n",
       "      <td>0</td>\n",
       "      <td>1</td>\n",
       "      <td>1</td>\n",
       "      <td>1</td>\n",
       "      <td>1</td>\n",
       "      <td>0</td>\n",
       "      <td>1</td>\n",
       "      <td>0</td>\n",
       "      <td>1</td>\n",
       "      <td>1</td>\n",
       "      <td>1</td>\n",
       "      <td>1</td>\n",
       "      <td>1</td>\n",
       "      <td>1</td>\n",
       "    </tr>\n",
       "    <tr>\n",
       "      <th>68</th>\n",
       "      <td>40223</td>\n",
       "      <td>0</td>\n",
       "      <td>1</td>\n",
       "      <td>1</td>\n",
       "      <td>1</td>\n",
       "      <td>1</td>\n",
       "      <td>1</td>\n",
       "      <td>1</td>\n",
       "      <td>1</td>\n",
       "      <td>0</td>\n",
       "      <td>1</td>\n",
       "      <td>0</td>\n",
       "      <td>1</td>\n",
       "      <td>1</td>\n",
       "      <td>1</td>\n",
       "      <td>1</td>\n",
       "      <td>0</td>\n",
       "      <td>1</td>\n",
       "    </tr>\n",
       "    <tr>\n",
       "      <th>201</th>\n",
       "      <td>47805</td>\n",
       "      <td>0</td>\n",
       "      <td>1</td>\n",
       "      <td>1</td>\n",
       "      <td>1</td>\n",
       "      <td>1</td>\n",
       "      <td>1</td>\n",
       "      <td>1</td>\n",
       "      <td>1</td>\n",
       "      <td>0</td>\n",
       "      <td>1</td>\n",
       "      <td>0</td>\n",
       "      <td>1</td>\n",
       "      <td>1</td>\n",
       "      <td>1</td>\n",
       "      <td>1</td>\n",
       "      <td>0</td>\n",
       "      <td>1</td>\n",
       "    </tr>\n",
       "    <tr>\n",
       "      <th>252</th>\n",
       "      <td>51503</td>\n",
       "      <td>0</td>\n",
       "      <td>2</td>\n",
       "      <td>2</td>\n",
       "      <td>2</td>\n",
       "      <td>2</td>\n",
       "      <td>2</td>\n",
       "      <td>2</td>\n",
       "      <td>2</td>\n",
       "      <td>0</td>\n",
       "      <td>2</td>\n",
       "      <td>0</td>\n",
       "      <td>2</td>\n",
       "      <td>2</td>\n",
       "      <td>2</td>\n",
       "      <td>2</td>\n",
       "      <td>0</td>\n",
       "      <td>2</td>\n",
       "    </tr>\n",
       "    <tr>\n",
       "      <th>232</th>\n",
       "      <td>50823</td>\n",
       "      <td>0</td>\n",
       "      <td>1</td>\n",
       "      <td>1</td>\n",
       "      <td>1</td>\n",
       "      <td>1</td>\n",
       "      <td>1</td>\n",
       "      <td>1</td>\n",
       "      <td>1</td>\n",
       "      <td>0</td>\n",
       "      <td>1</td>\n",
       "      <td>0</td>\n",
       "      <td>1</td>\n",
       "      <td>1</td>\n",
       "      <td>1</td>\n",
       "      <td>1</td>\n",
       "      <td>0</td>\n",
       "      <td>1</td>\n",
       "    </tr>\n",
       "    <tr>\n",
       "      <th>261</th>\n",
       "      <td>52218</td>\n",
       "      <td>0</td>\n",
       "      <td>1</td>\n",
       "      <td>1</td>\n",
       "      <td>0</td>\n",
       "      <td>1</td>\n",
       "      <td>1</td>\n",
       "      <td>1</td>\n",
       "      <td>1</td>\n",
       "      <td>0</td>\n",
       "      <td>1</td>\n",
       "      <td>0</td>\n",
       "      <td>1</td>\n",
       "      <td>1</td>\n",
       "      <td>1</td>\n",
       "      <td>1</td>\n",
       "      <td>1</td>\n",
       "      <td>1</td>\n",
       "    </tr>\n",
       "    <tr>\n",
       "      <th>56</th>\n",
       "      <td>32877</td>\n",
       "      <td>0</td>\n",
       "      <td>1</td>\n",
       "      <td>1</td>\n",
       "      <td>0</td>\n",
       "      <td>1</td>\n",
       "      <td>1</td>\n",
       "      <td>1</td>\n",
       "      <td>1</td>\n",
       "      <td>0</td>\n",
       "      <td>1</td>\n",
       "      <td>0</td>\n",
       "      <td>1</td>\n",
       "      <td>1</td>\n",
       "      <td>1</td>\n",
       "      <td>1</td>\n",
       "      <td>1</td>\n",
       "      <td>1</td>\n",
       "    </tr>\n",
       "    <tr>\n",
       "      <th>33</th>\n",
       "      <td>25693</td>\n",
       "      <td>0</td>\n",
       "      <td>1</td>\n",
       "      <td>1</td>\n",
       "      <td>0</td>\n",
       "      <td>1</td>\n",
       "      <td>1</td>\n",
       "      <td>1</td>\n",
       "      <td>1</td>\n",
       "      <td>0</td>\n",
       "      <td>1</td>\n",
       "      <td>0</td>\n",
       "      <td>1</td>\n",
       "      <td>1</td>\n",
       "      <td>1</td>\n",
       "      <td>1</td>\n",
       "      <td>1</td>\n",
       "      <td>1</td>\n",
       "    </tr>\n",
       "  </tbody>\n",
       "</table>\n",
       "</div>"
      ],
      "text/plain": [
       "    zipcode  _key  case_nr  court  date_of_birth  date_of_proceeding  \\\n",
       "114   42651     0        1      1              1                   1   \n",
       "143   45127     0        1      1              1                   1   \n",
       "271   52511     0        1      1              0                   1   \n",
       "68    40223     0        1      1              1                   1   \n",
       "201   47805     0        1      1              1                   1   \n",
       "252   51503     0        2      2              2                   2   \n",
       "232   50823     0        1      1              1                   1   \n",
       "261   52218     0        1      1              0                   1   \n",
       "56    32877     0        1      1              0                   1   \n",
       "33    25693     0        1      1              0                   1   \n",
       "\n",
       "     date_of_publication  description_hash  federal_state  file_name  kind  \\\n",
       "114                    1                 1              1          0     1   \n",
       "143                    1                 1              1          0     1   \n",
       "271                    1                 1              1          0     1   \n",
       "68                     1                 1              1          0     1   \n",
       "201                    1                 1              1          0     1   \n",
       "252                    2                 2              2          0     2   \n",
       "232                    1                 1              1          0     1   \n",
       "261                    1                 1              1          0     1   \n",
       "56                     1                 1              1          0     1   \n",
       "33                     1                 1              1          0     1   \n",
       "\n",
       "     title  type_of_proceeding  detail_form_name  format  name  register  \\\n",
       "114      0                   1                 1       1     1         0   \n",
       "143      0                   1                 1       1     1         0   \n",
       "271      0                   1                 1       1     1         1   \n",
       "68       0                   1                 1       1     1         0   \n",
       "201      0                   1                 1       1     1         0   \n",
       "252      0                   2                 2       2     2         0   \n",
       "232      0                   1                 1       1     1         0   \n",
       "261      0                   1                 1       1     1         1   \n",
       "56       0                   1                 1       1     1         1   \n",
       "33       0                   1                 1       1     1         1   \n",
       "\n",
       "     request_fingerprint  \n",
       "114                    1  \n",
       "143                    1  \n",
       "271                    1  \n",
       "68                     1  \n",
       "201                    1  \n",
       "252                    2  \n",
       "232                    1  \n",
       "261                    1  \n",
       "56                     1  \n",
       "33                     1  "
      ]
     },
     "execution_count": 116,
     "metadata": {},
     "output_type": "execute_result"
    }
   ],
   "source": [
    "eröffnung_court_nw = date_range_nw_ik.groupby(['zipcode'], as_index=False).count()\n",
    "eröffnung_court_nw.sample(10)"
   ]
  },
  {
   "cell_type": "code",
   "execution_count": null,
   "id": "602deea8",
   "metadata": {},
   "outputs": [],
   "source": [
    "nw_eröffnet_in_week.to_csv('bb_eröffnung_in_month.csv')"
   ]
  },
  {
   "cell_type": "code",
   "execution_count": 30,
   "id": "a6d727e7",
   "metadata": {},
   "outputs": [],
   "source": [
    "nw_eröffnet_ik_week = (\n",
    "    data_nw_ik[[\"date_of_publication\", \"description_hash\"]]\n",
    "    .groupby([pd.Grouper(key=\"date_of_publication\", freq=\"W-MON\", label=\"left\")])\n",
    "    .count()\n",
    ")"
   ]
  },
  {
   "cell_type": "code",
   "execution_count": 118,
   "id": "25550e23",
   "metadata": {},
   "outputs": [],
   "source": [
    "eröffnung_court_nw.to_csv('eröffnung_zip_nw_30T_IN.csv')"
   ]
  },
  {
   "cell_type": "code",
   "execution_count": 44,
   "id": "ec57440b",
   "metadata": {},
   "outputs": [
    {
     "data": {
      "text/plain": [
       "array(['bb', 'nw', 'sh', 'ns', 'by', 'sn', 'bw', 'be', 'st', 'he', 'rp',\n",
       "       'hb', 'mv', 'hh', 'sl', 'th', 'Bayern', 'Rheinland-Pfalz',\n",
       "       'Thüringen', 'Schleswig-Holstein', 'Sachsen-Anhalt', 'Sachsen',\n",
       "       'Saarland', 'Nordrhein-Westfalen', 'Niedersachsen',\n",
       "       'Mecklenburg-Vorpommern', 'Hessen', 'Hamburg', 'Bremen',\n",
       "       'Brandenburg', 'Berlin', 'Baden-Württemberg'], dtype=object)"
      ]
     },
     "execution_count": 44,
     "metadata": {},
     "output_type": "execute_result"
    }
   ],
   "source": [
    "df.federal_state.unique()"
   ]
  },
  {
   "cell_type": "code",
   "execution_count": null,
   "id": "f0a85b3c",
   "metadata": {},
   "outputs": [],
   "source": [
    "# IK = Verbraucherinsolvenz\n",
    "\n",
    "def ik_kind(df):\n",
    "    ik_verbraucher = (df[df['kind'] == 'ik'])\n",
    "    return ik_verbraucher\n",
    "\n",
    "# Funktion def wird ausgeführt\n",
    "data_ik = ik_kind(df)"
   ]
  },
  {
   "cell_type": "markdown",
   "id": "34493436",
   "metadata": {},
   "source": [
    "### Art des Verfahrens"
   ]
  },
  {
   "cell_type": "code",
   "execution_count": 18,
   "id": "cd8f9115",
   "metadata": {},
   "outputs": [
    {
     "data": {
      "text/plain": [
       "array(['Entscheidungen_im_Verfahren', 'Eroeffnung',\n",
       "       'Entscheidungen_im_Restschuldbefreiungsverfahren', 'Termine',\n",
       "       'Entscheidungen_nach_Aufhebung',\n",
       "       'Verwalter_Treuhaender_Verteilungsverzeichnis',\n",
       "       'Entscheidungen_im_Verfahren_Aufhebung_Einstellung',\n",
       "       'Restschuldbefreiung', 'Entscheidungen_im_Verfahren_mit_Termine',\n",
       "       'Sonstiges', 'Bestimmung_Termine', 'InsO_d_Verw_Treuh_',\n",
       "       'Sonstiges_ausserhalb_des_Verfahresn', 'Eroeffnungen',\n",
       "       'Eroeffnung_Insolvenzverfahren',\n",
       "       'Restschuldbefreiung_Erteilung_Versagung',\n",
       "       'Abweisungen_mangels_Masse', 'Sicherungsmassnahmen',\n",
       "       'Anordnung_Sicherungsmassnahmen',\n",
       "       'Verteilungsverzeichnis_Nachtragsvert_Loeschung',\n",
       "       'Entscheidungen_nach_Aufhebung_des_Verfahrens',\n",
       "       'Sicherungsmassnahme_Aufhebung', 'InsO_Plan_Ueberwachung',\n",
       "       'InsO_Plan_Aufhebung_Ueberwachung', 'Ueberwachte_Insolvenzplaene',\n",
       "       'InsO_Plan_Ankuendigung_Ueberwachung',\n",
       "       'Verteilungsverzeichnisse_(§_188_InsO)_d._Verw./Treuh.',\n",
       "       'Eröffnungen', 'Sicherungsmaßnahmen', 'Überwachte_Insolvenzpläne'],\n",
       "      dtype=object)"
      ]
     },
     "execution_count": 18,
     "metadata": {},
     "output_type": "execute_result"
    }
   ],
   "source": [
    "df.type_of_proceeding.unique()"
   ]
  },
  {
   "cell_type": "code",
   "execution_count": 25,
   "id": "efcc6de6",
   "metadata": {},
   "outputs": [],
   "source": [
    "def in_eröffnung(data_in):\n",
    "    in_eröffnet = data_in[data_in['type_of_proceeding'].isin(['Eröffnungen', 'Eroeffnung', 'Eroeffnung_Insolvenzverfahren', 'Eroeffnungen'])]\n",
    "    return in_eröffnet\n",
    "\n",
    "# Funktion def wird ausgeführt\n",
    "data_eröffnet_in = in_eröffnung(data_in)"
   ]
  },
  {
   "cell_type": "code",
   "execution_count": 36,
   "id": "5a302408",
   "metadata": {},
   "outputs": [],
   "source": [
    "data_eröffnet_in.to_csv('data_eröffnung_in_bund.csv')"
   ]
  },
  {
   "cell_type": "markdown",
   "id": "2dc5a840",
   "metadata": {},
   "source": [
    "# Verbraucher"
   ]
  },
  {
   "cell_type": "code",
   "execution_count": null,
   "id": "6760766f",
   "metadata": {},
   "outputs": [],
   "source": [
    "def ik_eröffnung(df):\n",
    "    ik_eröffnet = df[df['type_of_proceeding'].isin(['Eröffnungen', 'Eroeffnung', 'Eroeffnung_Insolvenzverfahren', 'Eroeffnungen'])]\n",
    "    return ik_eröffnet\n",
    "\n",
    "# Funktion def wird ausgeführt\n",
    "data_eröffnet = ik_eröffnung(df)"
   ]
  },
  {
   "cell_type": "code",
   "execution_count": null,
   "id": "a93121d9",
   "metadata": {},
   "outputs": [],
   "source": []
  },
  {
   "cell_type": "code",
   "execution_count": null,
   "id": "61ec9683",
   "metadata": {},
   "outputs": [],
   "source": [
    "def ik_masse(df):\n",
    "    ik_mangels_masse = df[df['type_of_proceeding'].isin(['Abweisungen_mangels_Masse'])]\n",
    "    return ik_mangels_masse\n",
    "\n",
    "# Funktion def wird ausgeführt\n",
    "data_masse = ik_masse(df)"
   ]
  },
  {
   "cell_type": "code",
   "execution_count": null,
   "id": "29d03ddf",
   "metadata": {},
   "outputs": [],
   "source": [
    "def ik_sicher(df):\n",
    "    ik_sicherung = df[df['type_of_proceeding'].isin(['Anordnung_Sicherungsmassnahmen', 'Sicherungsmassnahmen'])]\n",
    "    return ik_sicherung\n",
    "\n",
    "# Funktion def wird ausgeführt\n",
    "data_sicher = ik_sicher(df)"
   ]
  },
  {
   "cell_type": "markdown",
   "id": "8d3f3e3e",
   "metadata": {},
   "source": [
    "### groupby Bundesland descrptionhash"
   ]
  },
  {
   "cell_type": "code",
   "execution_count": null,
   "id": "6c886d92",
   "metadata": {},
   "outputs": [],
   "source": []
  },
  {
   "cell_type": "code",
   "execution_count": null,
   "id": "af3b85bc",
   "metadata": {},
   "outputs": [],
   "source": []
  },
  {
   "cell_type": "markdown",
   "id": "baccbc99",
   "metadata": {},
   "source": [
    "### groupby zipcode Bundesweit"
   ]
  },
  {
   "cell_type": "code",
   "execution_count": null,
   "id": "a30e3333",
   "metadata": {},
   "outputs": [],
   "source": []
  },
  {
   "cell_type": "code",
   "execution_count": null,
   "id": "0d4c8be5",
   "metadata": {},
   "outputs": [],
   "source": [
    "freq_in_nw_eröffnung_zipcode = data_nw_eröffnet.groupby(['zipcode'], as_index=False).count()\n",
    "freq_in_nw_eröffnung_zipcode.sample(10)"
   ]
  },
  {
   "cell_type": "markdown",
   "id": "d6760d82",
   "metadata": {},
   "source": [
    "### Groupby Inolvenzgericht"
   ]
  },
  {
   "cell_type": "code",
   "execution_count": null,
   "id": "52b784dd",
   "metadata": {},
   "outputs": [],
   "source": []
  },
  {
   "cell_type": "code",
   "execution_count": null,
   "id": "c8f00f5a",
   "metadata": {},
   "outputs": [],
   "source": []
  },
  {
   "cell_type": "markdown",
   "id": "b70431c8",
   "metadata": {},
   "source": [
    "### Groupby week"
   ]
  },
  {
   "cell_type": "code",
   "execution_count": 32,
   "id": "56118241",
   "metadata": {},
   "outputs": [],
   "source": [
    "data_eröffnet_in_week = (\n",
    "    data_eröffnet_in[[\"date_of_publication\", \"description_hash\"]]\n",
    "    .groupby(pd.Grouper(key=\"date_of_publication\", freq=\"W-MON\", label=\"left\"))\n",
    "    .count()\n",
    ")"
   ]
  },
  {
   "cell_type": "code",
   "execution_count": 33,
   "id": "301686e8",
   "metadata": {},
   "outputs": [
    {
     "data": {
      "text/html": [
       "<div>\n",
       "<style scoped>\n",
       "    .dataframe tbody tr th:only-of-type {\n",
       "        vertical-align: middle;\n",
       "    }\n",
       "\n",
       "    .dataframe tbody tr th {\n",
       "        vertical-align: top;\n",
       "    }\n",
       "\n",
       "    .dataframe thead th {\n",
       "        text-align: right;\n",
       "    }\n",
       "</style>\n",
       "<table border=\"1\" class=\"dataframe\">\n",
       "  <thead>\n",
       "    <tr style=\"text-align: right;\">\n",
       "      <th></th>\n",
       "      <th>description_hash</th>\n",
       "    </tr>\n",
       "    <tr>\n",
       "      <th>date_of_publication</th>\n",
       "      <th></th>\n",
       "    </tr>\n",
       "  </thead>\n",
       "  <tbody>\n",
       "    <tr>\n",
       "      <th>2018-12-31</th>\n",
       "      <td>392</td>\n",
       "    </tr>\n",
       "    <tr>\n",
       "      <th>2019-01-07</th>\n",
       "      <td>249</td>\n",
       "    </tr>\n",
       "    <tr>\n",
       "      <th>2019-01-14</th>\n",
       "      <td>231</td>\n",
       "    </tr>\n",
       "    <tr>\n",
       "      <th>2019-01-21</th>\n",
       "      <td>233</td>\n",
       "    </tr>\n",
       "    <tr>\n",
       "      <th>2019-01-28</th>\n",
       "      <td>445</td>\n",
       "    </tr>\n",
       "  </tbody>\n",
       "</table>\n",
       "</div>"
      ],
      "text/plain": [
       "                     description_hash\n",
       "date_of_publication                  \n",
       "2018-12-31                        392\n",
       "2019-01-07                        249\n",
       "2019-01-14                        231\n",
       "2019-01-21                        233\n",
       "2019-01-28                        445"
      ]
     },
     "execution_count": 33,
     "metadata": {},
     "output_type": "execute_result"
    }
   ],
   "source": [
    "data_eröffnet_in_week.head()"
   ]
  },
  {
   "cell_type": "code",
   "execution_count": 35,
   "id": "d9d86c8f",
   "metadata": {},
   "outputs": [],
   "source": [
    "data_eröffnet_in_week.to_csv('freq_in_eröffnung_bund.csv')"
   ]
  },
  {
   "cell_type": "markdown",
   "id": "9602fc81",
   "metadata": {},
   "source": [
    "### Alter "
   ]
  },
  {
   "cell_type": "code",
   "execution_count": null,
   "id": "55c85368",
   "metadata": {},
   "outputs": [],
   "source": [
    "freq_in_nw_eröffnung_birth = freq_in_nw_eröffnung_birth.groupby(['date_of_birth'], as_index=False).count()\n",
    "freq_in_nw_eröffnung_birth.sample(10)"
   ]
  },
  {
   "cell_type": "code",
   "execution_count": 6,
   "id": "6ae690d3",
   "metadata": {},
   "outputs": [],
   "source": [
    "data_nw = df[df[\"federal_state\"].isin(['Nordrhein-Westfalen', \"nw\"])]"
   ]
  },
  {
   "cell_type": "code",
   "execution_count": 8,
   "id": "2d73c55d",
   "metadata": {},
   "outputs": [
    {
     "name": "stdout",
     "output_type": "stream",
     "text": [
      "<class 'pandas.core.frame.DataFrame'>\n",
      "Int64Index: 204015 entries, 1341 to 1819821\n",
      "Data columns (total 18 columns):\n",
      " #   Column               Non-Null Count   Dtype         \n",
      "---  ------               --------------   -----         \n",
      " 0   _key                 8959 non-null    object        \n",
      " 1   case_nr              204015 non-null  object        \n",
      " 2   court                204015 non-null  object        \n",
      " 3   date_of_birth        103479 non-null  datetime64[ns]\n",
      " 4   date_of_proceeding   203559 non-null  datetime64[ns]\n",
      " 5   date_of_publication  204015 non-null  datetime64[ns]\n",
      " 6   description_hash     204015 non-null  object        \n",
      " 7   federal_state        204015 non-null  object        \n",
      " 8   file_name            101866 non-null  object        \n",
      " 9   kind                 203915 non-null  object        \n",
      " 10  title                101866 non-null  object        \n",
      " 11  type_of_proceeding   204015 non-null  object        \n",
      " 12  zipcode              203738 non-null  object        \n",
      " 13  detail_form_name     102149 non-null  object        \n",
      " 14  format               102149 non-null  object        \n",
      " 15  name                 102149 non-null  object        \n",
      " 16  register             16605 non-null   object        \n",
      " 17  request_fingerprint  102149 non-null  object        \n",
      "dtypes: datetime64[ns](3), object(15)\n",
      "memory usage: 29.6+ MB\n"
     ]
    }
   ],
   "source": []
  },
  {
   "cell_type": "code",
   "execution_count": 7,
   "id": "e24937b2",
   "metadata": {},
   "outputs": [
    {
     "data": {
      "text/plain": [
       "_key                   195056\n",
       "case_nr                     0\n",
       "court                       0\n",
       "date_of_birth          100536\n",
       "date_of_proceeding        456\n",
       "date_of_publication         0\n",
       "description_hash            0\n",
       "federal_state               0\n",
       "file_name              102149\n",
       "kind                      100\n",
       "title                  102149\n",
       "type_of_proceeding          0\n",
       "zipcode                   277\n",
       "detail_form_name       101866\n",
       "format                 101866\n",
       "name                   101866\n",
       "register               187410\n",
       "request_fingerprint    101866\n",
       "dtype: int64"
      ]
     },
     "execution_count": 7,
     "metadata": {},
     "output_type": "execute_result"
    }
   ],
   "source": [
    "data_nw.isnull().sum() # die Hälfte der Einträge hat keinen Wert in den geburtsdaten. Es macht also keinen Sinn hier eine Berechnung anzuwenden, da die Fehlerquote ienfach hoch wäre."
   ]
  },
  {
   "cell_type": "code",
   "execution_count": 9,
   "id": "61245d0c",
   "metadata": {},
   "outputs": [],
   "source": [
    "def nw_eröffnung(data_nw):\n",
    "    nw_eröffnet = data_nw[data_nw['type_of_proceeding'].isin(['Eröffnungen', 'Eroeffnung', 'Eroeffnung_Insolvenzverfahren'])]\n",
    "    return nw_eröffnet\n",
    "\n",
    "# Funktion def wird ausgeführt\n",
    "data_nw_eröffnet = nw_eröffnung(data_nw)"
   ]
  },
  {
   "cell_type": "code",
   "execution_count": 11,
   "id": "632e52e1",
   "metadata": {},
   "outputs": [
    {
     "name": "stdout",
     "output_type": "stream",
     "text": [
      "<class 'pandas.core.frame.DataFrame'>\n",
      "Int64Index: 32800 entries, 21335 to 1818646\n",
      "Data columns (total 18 columns):\n",
      " #   Column               Non-Null Count  Dtype         \n",
      "---  ------               --------------  -----         \n",
      " 0   _key                 507 non-null    object        \n",
      " 1   case_nr              32800 non-null  object        \n",
      " 2   court                32800 non-null  object        \n",
      " 3   date_of_birth        26980 non-null  datetime64[ns]\n",
      " 4   date_of_proceeding   32666 non-null  datetime64[ns]\n",
      " 5   date_of_publication  32800 non-null  datetime64[ns]\n",
      " 6   description_hash     32800 non-null  object        \n",
      " 7   federal_state        32800 non-null  object        \n",
      " 8   file_name            9769 non-null   object        \n",
      " 9   kind                 32781 non-null  object        \n",
      " 10  title                9769 non-null   object        \n",
      " 11  type_of_proceeding   32800 non-null  object        \n",
      " 12  zipcode              32790 non-null  object        \n",
      " 13  detail_form_name     23031 non-null  object        \n",
      " 14  format               23031 non-null  object        \n",
      " 15  name                 23031 non-null  object        \n",
      " 16  register             4889 non-null   object        \n",
      " 17  request_fingerprint  23031 non-null  object        \n",
      "dtypes: datetime64[ns](3), object(15)\n",
      "memory usage: 4.8+ MB\n"
     ]
    }
   ],
   "source": [
    "data_nw_eröffnet.info()"
   ]
  },
  {
   "cell_type": "code",
   "execution_count": 10,
   "id": "5bba7655",
   "metadata": {},
   "outputs": [
    {
     "data": {
      "text/plain": [
       "_key                   32293\n",
       "case_nr                    0\n",
       "court                      0\n",
       "date_of_birth           5820\n",
       "date_of_proceeding       134\n",
       "date_of_publication        0\n",
       "description_hash           0\n",
       "federal_state              0\n",
       "file_name              23031\n",
       "kind                      19\n",
       "title                  23031\n",
       "type_of_proceeding         0\n",
       "zipcode                   10\n",
       "detail_form_name        9769\n",
       "format                  9769\n",
       "name                    9769\n",
       "register               27911\n",
       "request_fingerprint     9769\n",
       "dtype: int64"
      ]
     },
     "execution_count": 10,
     "metadata": {},
     "output_type": "execute_result"
    }
   ],
   "source": [
    "data_nw_eröffnet.isnull().sum() # 21,57 % der Werte fehlen !"
   ]
  },
  {
   "cell_type": "code",
   "execution_count": null,
   "id": "2100fa51",
   "metadata": {},
   "outputs": [],
   "source": []
  }
 ],
 "metadata": {
  "kernelspec": {
   "display_name": "Python 3.8.5 64-bit",
   "language": "python",
   "name": "python38564bit5f90724b905b4669ac4a17f6a44b4c3a"
  },
  "language_info": {
   "codemirror_mode": {
    "name": "ipython",
    "version": 3
   },
   "file_extension": ".py",
   "mimetype": "text/x-python",
   "name": "python",
   "nbconvert_exporter": "python",
   "pygments_lexer": "ipython3",
   "version": "3.8.10"
  }
 },
 "nbformat": 4,
 "nbformat_minor": 5
}
