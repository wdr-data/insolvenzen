{
 "cells": [
  {
   "cell_type": "code",
   "execution_count": 5,
   "metadata": {},
   "outputs": [],
   "source": [
    "import pandas as pd"
   ]
  },
  {
   "cell_type": "code",
   "execution_count": 6,
   "metadata": {},
   "outputs": [],
   "source": [
    "data = pd.read_csv('2021-08-29T03-32-45.jsonl.csv')"
   ]
  },
  {
   "cell_type": "code",
   "execution_count": 8,
   "metadata": {},
   "outputs": [
    {
     "data": {
      "text/plain": [
       "(21854, 14)"
      ]
     },
     "execution_count": 8,
     "metadata": {},
     "output_type": "execute_result"
    }
   ],
   "source": [
    "data.shape"
   ]
  },
  {
   "cell_type": "code",
   "execution_count": 11,
   "metadata": {},
   "outputs": [
    {
     "data": {
      "text/plain": [
       "['case_nr',\n",
       " 'court',\n",
       " 'date_of_birth',\n",
       " 'date_of_proceeding',\n",
       " 'date_of_publication',\n",
       " 'detail_form_name',\n",
       " 'federal_state',\n",
       " 'format',\n",
       " 'kind',\n",
       " 'name',\n",
       " 'register',\n",
       " 'request_fingerprint',\n",
       " 'type_of_proceeding',\n",
       " 'zipcode']"
      ]
     },
     "execution_count": 11,
     "metadata": {},
     "output_type": "execute_result"
    }
   ],
   "source": [
    "list(data)"
   ]
  },
  {
   "cell_type": "code",
   "execution_count": 16,
   "metadata": {},
   "outputs": [
    {
     "name": "stdout",
     "output_type": "stream",
     "text": [
      "case_nr: 0.0%\n",
      "court: 0.0%\n",
      "date_of_birth: 18.605289649492082%\n",
      "date_of_proceeding: 14.857691955706049%\n",
      "date_of_publication: 0.0%\n",
      "detail_form_name: 0.0%\n",
      "federal_state: 0.0%\n",
      "format: 0.0%\n",
      "kind: 0.05948567767914341%\n",
      "name: 0.0%\n",
      "register: 94.33055733504165%\n",
      "request_fingerprint: 0.0%\n",
      "type_of_proceeding: 0.0%\n",
      "zipcode: 0.43012720783380615%\n"
     ]
    }
   ],
   "source": [
    "def NaN_percent(data, court):\n",
    "    row_count = data[court].shape[0]\n",
    "    empty_values = row_count - data[court].count()\n",
    "    return (100.0*empty_values)/row_count\n",
    "for i in list(data):\n",
    "    print(i +': ' + str(NaN_percent(data,i))+'%')"
   ]
  },
  {
   "cell_type": "code",
   "execution_count": 22,
   "metadata": {},
   "outputs": [],
   "source": []
  },
  {
   "cell_type": "code",
   "execution_count": 29,
   "metadata": {},
   "outputs": [
    {
     "name": "stdout",
     "output_type": "stream",
     "text": [
      "0\n"
     ]
    }
   ],
   "source": [
    "unique_state = len(data[data.federal_state=='nordrhein westfalen'].federal_state.unique())\n",
    "print(unique_state)"
   ]
  },
  {
   "cell_type": "code",
   "execution_count": null,
   "metadata": {},
   "outputs": [],
   "source": [
    "def kind():\n",
    "    if "
   ]
  }
 ],
 "metadata": {
  "kernelspec": {
   "display_name": "Python 3.8.5 64-bit",
   "language": "python",
   "name": "python38564bit5f90724b905b4669ac4a17f6a44b4c3a"
  },
  "language_info": {
   "codemirror_mode": {
    "name": "ipython",
    "version": 3
   },
   "file_extension": ".py",
   "mimetype": "text/x-python",
   "name": "python",
   "nbconvert_exporter": "python",
   "pygments_lexer": "ipython3",
   "version": "3.8.10"
  }
 },
 "nbformat": 4,
 "nbformat_minor": 4
}
